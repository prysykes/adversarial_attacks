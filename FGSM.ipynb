{
  "nbformat": 4,
  "nbformat_minor": 0,
  "metadata": {
    "colab": {
      "provenance": [],
      "gpuType": "T4",
      "toc_visible": true,
      "include_colab_link": true
    },
    "kernelspec": {
      "name": "python3",
      "display_name": "Python 3"
    },
    "language_info": {
      "name": "python"
    },
    "accelerator": "GPU"
  },
  "cells": [
    {
      "cell_type": "markdown",
      "metadata": {
        "id": "view-in-github",
        "colab_type": "text"
      },
      "source": [
        "<a href=\"https://colab.research.google.com/github/prysykes/adversarial_attacks/blob/main/FGSM.ipynb\" target=\"_parent\"><img src=\"https://colab.research.google.com/assets/colab-badge.svg\" alt=\"Open In Colab\"/></a>"
      ]
    },
    {
      "cell_type": "markdown",
      "source": [],
      "metadata": {
        "id": "z5ln79VDmASD"
      }
    },
    {
      "cell_type": "code",
      "execution_count": 1,
      "metadata": {
        "id": "Y15rXRRkYRXk"
      },
      "outputs": [],
      "source": [
        "import tensorflow as tf\n",
        "import os\n",
        "import numpy as np\n",
        "from tensorflow import keras\n",
        "from tensorflow.keras.datasets import mnist\n",
        "import matplotlib.pyplot as plt"
      ]
    },
    {
      "cell_type": "code",
      "source": [
        "pathh = 'MNISTClassifier'\n",
        "\n",
        "for parent, dirs, files in os.walk(pathh, topdown=False):\n",
        "  for file in files:\n",
        "    file_path = os.path.join(parent, file)\n",
        "    os.remove(file_path)\n",
        "  for dir in dirs:\n",
        "    dir_path = os.path.join(parent, dir)\n",
        "    os.rmdir(dir_path)\n",
        "\n",
        "  os.rmdir('/content/MNISTClassifier')"
      ],
      "metadata": {
        "id": "zvPcU7Wpe7Vj"
      },
      "execution_count": 2,
      "outputs": []
    },
    {
      "cell_type": "code",
      "source": [
        "(images, labels), (test_images, test_labels) = mnist.load_data()\n",
        "images = images.reshape((60000, 28, 28)).astype(\"float32\") / 255\n",
        "images = np.expand_dims(images, axis=3)\n",
        "test_images = test_images.reshape((10000, 28, 28)).astype(\"float32\") / 255\n",
        "test_images = np.expand_dims(test_images, axis=3)\n",
        "x_train, x_test = images[10000:], images[:10000]\n",
        "y_train, y_test = labels[10000:], labels[:10000]"
      ],
      "metadata": {
        "id": "2KVm_XG-YcR2"
      },
      "execution_count": 3,
      "outputs": []
    },
    {
      "cell_type": "markdown",
      "source": [
        "Inspect data"
      ],
      "metadata": {
        "id": "tsU6eJl1AMOe"
      }
    },
    {
      "cell_type": "code",
      "source": [
        "x_test[5].shape\n",
        "digit = x_test[25]\n",
        "fig = plt.figure\n",
        "plt.imshow(digit, cmap='gray')\n",
        "print(y_test[16])\n",
        "\n",
        "# number 2 are found in these location: [(5, 2), (16, 2), (25, 2), (28, 2), (76, 2)]"
      ],
      "metadata": {
        "colab": {
          "base_uri": "https://localhost:8080/",
          "height": 447
        },
        "id": "DP7c3-__jH5O",
        "outputId": "4eebaad8-ac25-4053-c270-e4f6451921e7"
      },
      "execution_count": 4,
      "outputs": [
        {
          "output_type": "stream",
          "name": "stdout",
          "text": [
            "2\n"
          ]
        },
        {
          "output_type": "display_data",
          "data": {
            "text/plain": [
              "<Figure size 640x480 with 1 Axes>"
            ],
            "image/png": "[encoded data removed]"
          },
          "metadata": {}
        }
      ]
    },
    {
      "cell_type": "code",
      "source": [
        "few_twos = []\n",
        "count = 0\n",
        "for index, label in enumerate(y_test):\n",
        "  if count > 9:\n",
        "    break\n",
        "  if label == 2:\n",
        "    few_twos.append((index, label))\n",
        "    count += 1\n",
        "\n",
        "print(few_twos)"
      ],
      "metadata": {
        "colab": {
          "base_uri": "https://localhost:8080/"
        },
        "id": "BcvFUiv4AY6G",
        "outputId": "02a53646-f4fb-49b1-d673-1ffbf8a21c55"
      },
      "execution_count": 5,
      "outputs": [
        {
          "output_type": "stream",
          "name": "stdout",
          "text": [
            "[(5, 2), (16, 2), (25, 2), (28, 2), (76, 2), (82, 2), (109, 2), (117, 2), (120, 2), (122, 2)]\n"
          ]
        }
      ]
    },
    {
      "cell_type": "code",
      "source": [
        "print(few_twos)"
      ],
      "metadata": {
        "colab": {
          "base_uri": "https://localhost:8080/"
        },
        "id": "EqQto2xcBJnJ",
        "outputId": "dfe62d78-2011-4e45-e853-5a239408177c"
      },
      "execution_count": 6,
      "outputs": [
        {
          "output_type": "stream",
          "name": "stdout",
          "text": [
            "[(5, 2), (16, 2), (25, 2), (28, 2), (76, 2), (82, 2), (109, 2), (117, 2), (120, 2), (122, 2)]\n"
          ]
        }
      ]
    },
    {
      "cell_type": "code",
      "source": [
        "class MNISTClassifierSmall(tf.keras.Model):\n",
        "  def __init__(self):\n",
        "    super(MNISTClassifierSmall, self).__init__()\n",
        "\n",
        "    #define layers\n",
        "    self.conv1 = tf.keras.layers.Conv2D(16, kernel_size=(3, 3), activation='relu', input_shape=(28,28,1))\n",
        "    self.conv2 = tf.keras.layers.Conv2D(32, kernel_size=(3, 3), activation='relu', input_shape=(28,28,1))\n",
        "    self.conv3 = tf.keras.layers.Conv2D(64, kernel_size=(3, 3), activation='relu', input_shape=(28,28,1))\n",
        "    self.flatten = tf.keras.layers.Flatten()\n",
        "    self.dense1 = tf.keras.layers.Dense(10)\n",
        "\n",
        "    self.layers_list = [self.conv1, self.conv2, self.conv3, self.flatten, self.dense1]\n",
        "\n",
        "  @tf.function\n",
        "  def call(self, *args, **kwargs):\n",
        "    activation_list = []\n",
        "    out = args[0]\n",
        "    for layer in self.layers_list:\n",
        "      out = layer(out)\n",
        "      activation_list.append(out)\n",
        "\n",
        "    if kwargs['training']:\n",
        "      return out\n",
        "\n",
        "    else:\n",
        "      prob = tf.nn.softmax(out)\n",
        "      return out, prob\n"
      ],
      "metadata": {
        "id": "Le520-be9FYR"
      },
      "execution_count": 94,
      "outputs": []
    },
    {
      "cell_type": "code",
      "source": [
        "model = MNISTClassifierSmall()\n",
        "model.compile(loss=tf.keras.losses.SparseCategoricalCrossentropy(from_logits=True),\n",
        "              optimizer=tf.keras.optimizers.Adam(),\n",
        "              metrics=['accuracy'])\n",
        "\n",
        "model.fit(x_train, y_train, epochs=10, validation_data=(x_test, y_test))\n",
        "\n",
        "model.save('MNISTClassifierSmall')\n",
        "# model = keras.models.load_model(\"MNISTClassifier.keras\")"
      ],
      "metadata": {
        "colab": {
          "base_uri": "https://localhost:8080/"
        },
        "id": "9NxRD7i6CAY6",
        "outputId": "ce1de842-6cc4-4ce0-98c2-0c0798fa11ac"
      },
      "execution_count": 95,
      "outputs": [
        {
          "output_type": "stream",
          "name": "stdout",
          "text": [
            "Epoch 1/10\n",
            "1563/1563 [==============================] - 11s 5ms/step - loss: 0.1213 - accuracy: 0.9627 - val_loss: 0.0624 - val_accuracy: 0.9810\n",
            "Epoch 2/10\n",
            "1563/1563 [==============================] - 9s 6ms/step - loss: 0.0443 - accuracy: 0.9859 - val_loss: 0.0476 - val_accuracy: 0.9865\n",
            "Epoch 3/10\n",
            "1563/1563 [==============================] - 8s 5ms/step - loss: 0.0297 - accuracy: 0.9905 - val_loss: 0.0479 - val_accuracy: 0.9871\n",
            "Epoch 4/10\n",
            "1563/1563 [==============================] - 8s 5ms/step - loss: 0.0204 - accuracy: 0.9929 - val_loss: 0.0726 - val_accuracy: 0.9816\n",
            "Epoch 5/10\n",
            "1563/1563 [==============================] - 9s 6ms/step - loss: 0.0135 - accuracy: 0.9953 - val_loss: 0.0547 - val_accuracy: 0.9872\n",
            "Epoch 6/10\n",
            "1563/1563 [==============================] - 8s 5ms/step - loss: 0.0102 - accuracy: 0.9966 - val_loss: 0.0690 - val_accuracy: 0.9881\n",
            "Epoch 7/10\n",
            "1563/1563 [==============================] - 10s 6ms/step - loss: 0.0084 - accuracy: 0.9971 - val_loss: 0.0576 - val_accuracy: 0.9873\n",
            "Epoch 8/10\n",
            "1563/1563 [==============================] - 8s 5ms/step - loss: 0.0068 - accuracy: 0.9977 - val_loss: 0.0721 - val_accuracy: 0.9831\n",
            "Epoch 9/10\n",
            "1563/1563 [==============================] - 10s 6ms/step - loss: 0.0065 - accuracy: 0.9978 - val_loss: 0.0895 - val_accuracy: 0.9849\n",
            "Epoch 10/10\n",
            "1563/1563 [==============================] - 8s 5ms/step - loss: 0.0046 - accuracy: 0.9984 - val_loss: 0.0913 - val_accuracy: 0.9840\n"
          ]
        },
        {
          "output_type": "stream",
          "name": "stderr",
          "text": [
            "WARNING:absl:Found untraced functions such as _jit_compiled_convolution_op, _jit_compiled_convolution_op, _jit_compiled_convolution_op, _update_step_xla while saving (showing 4 of 4). These functions will not be directly callable after loading.\n"
          ]
        }
      ]
    },
    {
      "cell_type": "markdown",
      "source": [],
      "metadata": {
        "id": "kKud8bd0_-bx"
      }
    },
    {
      "cell_type": "code",
      "source": [
        "class MNISTClassifier(tf.keras.Model):\n",
        "    def __init__(self):\n",
        "        super(MNISTClassifier, self).__init__()\n",
        "\n",
        "        # Define the layers\n",
        "        #for feature extration\n",
        "        self.conv1 = tf.keras.layers.Conv2D(32, kernel_size=(3, 3), activation='relu', input_shape=(28, 28, 1))\n",
        "        self.max_pool1 = tf.keras.layers.MaxPooling2D(pool_size=(2, 2))\n",
        "        self.conv2 = tf.keras.layers.Conv2D(64, kernel_size=(3, 3), activation='relu')\n",
        "        self.max_pool2 = tf.keras.layers.MaxPooling2D(pool_size=(2, 2))\n",
        "        self.flatten = tf.keras.layers.Flatten()\n",
        "        self.dropout1 = tf.keras.layers.Dropout(0.25)\n",
        "        self.dense1 = tf.keras.layers.Dense(128, activation='relu')\n",
        "        self.dropout2 = tf.keras.layers.Dropout(0.5)\n",
        "        self.dense2 = tf.keras.layers.Dense(10)\n",
        "        self.layers_list = [self.conv1, self.max_pool1, self.conv2, self.max_pool2,\n",
        "                           self.flatten, self.dropout1, self.dense1, self.dropout2, self.dense2]\n",
        "    @tf.function\n",
        "    def call(self, *args, **kwargs):\n",
        "        # Define the forward pass\n",
        "        # output is the model logits\n",
        "        activation_list = []\n",
        "        out = args[0]\n",
        "        for layer in self.layers_list:\n",
        "           out = layer(out)\n",
        "           activation_list.append(out)\n",
        "\n",
        "        if kwargs['training']:\n",
        "          #notice that training is a kw argument checked when fit is called\n",
        "          #so when model is training, all I need is the output logits to call the loss function upon\n",
        "          return out\n",
        "        else:\n",
        "          prob = tf.nn.softmax(out)\n",
        "          return out, prob"
      ],
      "metadata": {
        "id": "sYdplnAkjKEO"
      },
      "execution_count": 7,
      "outputs": []
    },
    {
      "cell_type": "code",
      "source": [
        "class SaveFinalTrainingLogitsProp(keras.callbacks.Callback):\n",
        "  def on_train_end(self, logs):\n",
        "    self.out = model.predict(x_train)\n",
        "    self.prob = tf.nn.softmax(self.out)\n",
        "    print(self.out.shape, self.prob.shape)\n"
      ],
      "metadata": {
        "id": "s_h-WF1i0EVi"
      },
      "execution_count": 8,
      "outputs": []
    },
    {
      "cell_type": "code",
      "source": [
        "model = MNISTClassifier()\n",
        "model.compile(loss=tf.keras.losses.SparseCategoricalCrossentropy(from_logits=True),\n",
        "              optimizer=tf.keras.optimizers.Adam(),\n",
        "              metrics=['accuracy'])\n",
        "\n",
        "model.fit(x_train, y_train, epochs=10, validation_data=(x_test, y_test))\n",
        "\n",
        "model.save('MNISTClassifier')\n",
        "# model = keras.models.load_model(\"MNISTClassifier.keras\")"
      ],
      "metadata": {
        "id": "K3yL79BLjQZ-",
        "colab": {
          "base_uri": "https://localhost:8080/"
        },
        "outputId": "20084905-8052-4321-9bec-084d6d5b2c74"
      },
      "execution_count": 8,
      "outputs": [
        {
          "output_type": "stream",
          "name": "stdout",
          "text": [
            "Epoch 1/10\n",
            "1563/1563 [==============================] - 17s 7ms/step - loss: 0.2674 - accuracy: 0.9161 - val_loss: 0.0682 - val_accuracy: 0.9800\n",
            "Epoch 2/10\n",
            "1563/1563 [==============================] - 14s 9ms/step - loss: 0.1008 - accuracy: 0.9699 - val_loss: 0.0559 - val_accuracy: 0.9827\n",
            "Epoch 3/10\n",
            "1563/1563 [==============================] - 10s 6ms/step - loss: 0.0728 - accuracy: 0.9776 - val_loss: 0.0450 - val_accuracy: 0.9867\n",
            "Epoch 4/10\n",
            "1563/1563 [==============================] - 8s 5ms/step - loss: 0.0632 - accuracy: 0.9813 - val_loss: 0.0404 - val_accuracy: 0.9893\n",
            "Epoch 5/10\n",
            "1563/1563 [==============================] - 9s 5ms/step - loss: 0.0539 - accuracy: 0.9833 - val_loss: 0.0379 - val_accuracy: 0.9894\n",
            "Epoch 6/10\n",
            "1563/1563 [==============================] - 10s 6ms/step - loss: 0.0480 - accuracy: 0.9854 - val_loss: 0.0381 - val_accuracy: 0.9888\n",
            "Epoch 7/10\n",
            "1563/1563 [==============================] - 8s 5ms/step - loss: 0.0436 - accuracy: 0.9870 - val_loss: 0.0385 - val_accuracy: 0.9889\n",
            "Epoch 8/10\n",
            "1563/1563 [==============================] - 8s 5ms/step - loss: 0.0397 - accuracy: 0.9879 - val_loss: 0.0379 - val_accuracy: 0.9906\n",
            "Epoch 9/10\n",
            "1563/1563 [==============================] - 9s 6ms/step - loss: 0.0356 - accuracy: 0.9884 - val_loss: 0.0438 - val_accuracy: 0.9894\n",
            "Epoch 10/10\n",
            "1563/1563 [==============================] - 8s 5ms/step - loss: 0.0329 - accuracy: 0.9894 - val_loss: 0.0409 - val_accuracy: 0.9900\n"
          ]
        },
        {
          "output_type": "stream",
          "name": "stderr",
          "text": [
            "WARNING:absl:Found untraced functions such as _jit_compiled_convolution_op, _jit_compiled_convolution_op, _update_step_xla while saving (showing 3 of 3). These functions will not be directly callable after loading.\n"
          ]
        }
      ]
    },
    {
      "cell_type": "markdown",
      "source": [
        "## load model and make predictions"
      ],
      "metadata": {
        "id": "4-MZOu1ZIB0v"
      }
    },
    {
      "cell_type": "code",
      "source": [
        "# select a few twos from the test dataset and reshape\n",
        "# twos are at [(5, 2), (16, 2), (25, 2), (28, 2), (76, 2)]\n",
        "\n",
        "twos_tuple = [(5, 2), (16, 2), (25, 2), (28, 2), (76, 2), (82, 2), (109, 2), (117, 2), (120, 2), (122, 2)]\n",
        "reshaped_sample_twos = []\n",
        "for tup in twos_tuple:\n",
        "  a_two = x_test[tup[0]]\n",
        "  a_two = np.reshape(a_two, (-1, 28, 28, 1))\n",
        "  reshaped_sample_twos.append(a_two)\n",
        "reshaped_sample_twos = np.array(reshaped_sample_twos)\n",
        "# a_five = np.reshape(x_test[47], (-1, 28, 28, 1))\n",
        "# print(a_five.shape)"
      ],
      "metadata": {
        "id": "OWVZ0ykNKqOw"
      },
      "execution_count": 9,
      "outputs": []
    },
    {
      "cell_type": "code",
      "source": [
        "print(reshaped_sample_twos.shape) #the network expects a rank 4 tensor ie. batch, width, hieght, channel"
      ],
      "metadata": {
        "id": "3iAf9g6JNdx5",
        "outputId": "d0b4e3ef-0488-46b6-f9fc-95d3a94e9e6f",
        "colab": {
          "base_uri": "https://localhost:8080/"
        }
      },
      "execution_count": 98,
      "outputs": [
        {
          "output_type": "stream",
          "name": "stdout",
          "text": [
            "(10, 1, 28, 28, 1)\n"
          ]
        }
      ]
    },
    {
      "cell_type": "code",
      "source": [
        "# location of 2 in x_test # number 2 are found in these location: [(5, 2), (16, 2), (25, 2), (28, 2), (76, 2)]\n",
        "model = tf.keras.models.load_model('MNISTClassifier')\n",
        "\n",
        "prediction = []\n",
        "for sample in reshaped_sample_twos:\n",
        "  sample_prediction = model.predict(sample)\n",
        "  prediction.append(sample_prediction)\n",
        "# print(np.argmax(prediction))\n",
        "print(np.argmax(prediction[0][1]))"
      ],
      "metadata": {
        "colab": {
          "base_uri": "https://localhost:8080/"
        },
        "id": "uRBgRXHZIoh2",
        "outputId": "b3a10938-594d-40a9-aa12-93d17fc96fc0"
      },
      "execution_count": 10,
      "outputs": [
        {
          "output_type": "stream",
          "name": "stdout",
          "text": [
            "1/1 [==============================] - 0s 263ms/step\n",
            "1/1 [==============================] - 0s 37ms/step\n",
            "1/1 [==============================] - 0s 36ms/step\n",
            "1/1 [==============================] - 0s 34ms/step\n",
            "1/1 [==============================] - 0s 33ms/step\n",
            "1/1 [==============================] - 0s 32ms/step\n",
            "1/1 [==============================] - 0s 41ms/step\n",
            "1/1 [==============================] - 0s 29ms/step\n",
            "1/1 [==============================] - 0s 30ms/step\n",
            "1/1 [==============================] - 0s 28ms/step\n",
            "2\n"
          ]
        }
      ]
    },
    {
      "cell_type": "code",
      "source": [
        "print(np.argmax(prediction[1][0]))"
      ],
      "metadata": {
        "colab": {
          "base_uri": "https://localhost:8080/"
        },
        "id": "v53uHcEx79Ym",
        "outputId": "2e42e4ad-83fb-41e9-d2cd-9cef1e21cc87"
      },
      "execution_count": 11,
      "outputs": [
        {
          "output_type": "stream",
          "name": "stdout",
          "text": [
            "2\n"
          ]
        }
      ]
    },
    {
      "cell_type": "code",
      "source": [
        "print(prediction)"
      ],
      "metadata": {
        "colab": {
          "base_uri": "https://localhost:8080/"
        },
        "id": "-6Z0Razm7tOL",
        "outputId": "98aeabb1-78db-4be1-e40d-ce014801e95f"
      },
      "execution_count": 17,
      "outputs": [
        {
          "output_type": "stream",
          "name": "stdout",
          "text": [
            "[(array([[ -9.134992 ,  -7.7646103,  20.865807 ,  -3.2899628, -11.717895 ,\n",
            "        -17.015156 , -15.861994 ,  -5.493937 ,  -8.166269 , -19.320885 ]],\n",
            "      dtype=float32), array([[9.3501656e-14, 3.6810179e-13, 1.0000000e+00, 3.2305960e-11,\n",
            "        7.0644437e-15, 3.5359579e-17, 1.1202625e-16, 3.5654062e-12,\n",
            "        2.4633699e-13, 3.5248585e-18]], dtype=float32)), (array([[ -6.442524  ,  -8.878513  ,  15.837682  ,  -1.2903374 ,\n",
            "        -12.28939   , -12.3454685 , -15.789517  ,  -0.02592649,\n",
            "         -3.9680638 , -13.503057  ]], dtype=float32), array([[2.1078027e-10, 1.8445620e-11, 9.9999988e-01, 3.6424677e-08,\n",
            "        6.0893093e-13, 5.7572214e-13, 1.8385773e-14, 1.2898001e-07,\n",
            "        2.5030744e-09, 1.8091693e-13]], dtype=float32)), (array([[ -9.183034 ,  -8.148974 ,  14.980341 ,   0.3985322, -15.808408 ,\n",
            "        -16.692863 ,  -8.494036 ,  -6.953485 ,  -1.0761036, -12.040946 ]],\n",
            "      dtype=float32), array([[3.20611385e-11, 9.01708430e-11, 9.99999404e-01, 4.64729794e-07,\n",
            "        4.25221924e-14, 1.75590845e-14, 6.38568504e-11, 2.98029990e-10,\n",
            "        1.06359096e-07, 1.83994291e-12]], dtype=float32)), (array([[ -0.93865836,  -9.084299  ,  12.41203   ,  -0.9892233 ,\n",
            "        -13.611533  , -14.21049   , -14.527777  ,   2.457412  ,\n",
            "         -2.5128345 ,  -7.456964  ]], dtype=float32), array([[1.5916490e-06, 4.6157284e-10, 9.9994898e-01, 1.5131686e-06,\n",
            "        4.9898544e-12, 2.7413475e-12, 1.9960338e-12, 4.7505295e-05,\n",
            "        3.2975504e-07, 2.3495434e-09]], dtype=float32)), (array([[ -8.880948 ,  -6.370395 ,  18.814894 ,  -2.4843931, -19.246069 ,\n",
            "        -22.593044 ,  -9.904945 , -10.352154 ,  -7.1210427, -16.394371 ]],\n",
            "      dtype=float32), array([[9.3723466e-13, 1.1538990e-11, 1.0000000e+00, 5.6213117e-10,\n",
            "        2.9534795e-17, 1.0393501e-18, 3.3661415e-13, 2.1523466e-13,\n",
            "        5.4471098e-12, 5.1145776e-16]], dtype=float32)), (array([[ -2.59804 ,  -9.243014,  20.985662,  -2.850191, -14.343438,\n",
            "        -13.216124, -13.466108,  -7.906261, -10.7002  , -20.223112]],\n",
            "      dtype=float32), array([[5.7243783e-11, 7.4447975e-14, 1.0000000e+00, 4.4485689e-11,\n",
            "        4.5369726e-16, 1.4007257e-15, 1.0909027e-15, 2.8339806e-13,\n",
            "        1.7338212e-14, 1.2684010e-18]], dtype=float32)), (array([[ -6.676471  ,  -5.3454905 ,  11.687478  ,   0.74521077,\n",
            "         -7.642824  , -14.342739  ,  -8.959971  ,  -4.1400285 ,\n",
            "        -10.64544   ,  -9.370046  ]], dtype=float32), array([[1.0583532e-08, 4.0056044e-08, 9.9998224e-01, 1.7693996e-05,\n",
            "        4.0266910e-09, 4.9569329e-12, 1.0787452e-09, 1.3371907e-07,\n",
            "        1.9995357e-10, 7.1585643e-10]], dtype=float32)), (array([[-10.309903 ,  -6.087971 ,  11.823646 ,   2.209066 , -13.507024 ,\n",
            "        -13.415462 ,  -9.768181 ,  -3.729937 ,  -2.4579196, -10.239648 ]],\n",
            "      dtype=float32), array([[2.44057774e-10, 1.66362000e-08, 9.99932528e-01, 6.67439017e-05,\n",
            "        9.97701748e-12, 1.09336646e-11, 4.19526303e-10, 1.75847177e-07,\n",
            "        6.27430950e-07, 2.61820787e-10]], dtype=float32)), (array([[ -3.5525484,  -6.6726923,  12.026612 ,  -2.3915267, -10.366359 ,\n",
            "        -14.514037 , -18.51895  ,   6.581801 ,  -7.909051 , -10.985288 ]],\n",
            "      dtype=float32), array([[1.7068078e-07, 7.5356938e-09, 9.9569905e-01, 5.4501709e-07,\n",
            "        1.8749269e-10, 2.9625827e-12, 5.3995647e-14, 4.3000807e-03,\n",
            "        2.1886664e-09, 1.0096875e-10]], dtype=float32)), (array([[-12.968377  ,   0.61238915,  18.17719   ,  -3.0991051 ,\n",
            "         -9.006242  , -18.344873  ,  -9.27222   , -10.846016  ,\n",
            "         -8.651904  , -20.065243  ]], dtype=float32), array([[2.9761262e-14, 2.3534412e-08, 1.0000000e+00, 5.7520383e-10,\n",
            "        1.5645332e-12, 1.3761604e-16, 1.1991484e-12, 2.4853150e-13,\n",
            "        2.2298342e-12, 2.4633321e-17]], dtype=float32))]\n"
          ]
        }
      ]
    },
    {
      "cell_type": "code",
      "source": [
        "print(tf.one_hot(y_test[5], 10)) #creates a 0n-hot encoded output label to enable us calculate the distance"
      ],
      "metadata": {
        "id": "RAVZgBdUZfr4",
        "outputId": "99d72603-d39b-4b10-ca80-bd48b50c548e",
        "colab": {
          "base_uri": "https://localhost:8080/"
        }
      },
      "execution_count": 12,
      "outputs": [
        {
          "output_type": "stream",
          "name": "stdout",
          "text": [
            "tf.Tensor([0. 0. 1. 0. 0. 0. 0. 0. 0. 0.], shape=(10,), dtype=float32)\n"
          ]
        }
      ]
    },
    {
      "cell_type": "code",
      "source": [
        "reshaped_sample_twos[0].shape\n",
        "print(\"hh\", reshaped_sample_twos[0].shape)\n",
        "#squeze to drop first dim\n",
        "squeze_two = np.expand_dims(np.squeeze(reshaped_sample_twos[2]), axis=2)\n",
        "squeze_two.shape\n",
        "x = squeze_two\n",
        "x = np.expand_dims(x, axis=0)\n",
        "x = tf.convert_to_tensor(x)\n",
        "y = y_test[5]\n",
        "y = tf.convert_to_tensor(y)\n",
        "\n",
        "print(y)\n",
        "print(x.shape)"
      ],
      "metadata": {
        "id": "h101AZjxfonJ",
        "outputId": "485909aa-fa87-423f-dc22-1fd5fa53e7d9",
        "colab": {
          "base_uri": "https://localhost:8080/"
        }
      },
      "execution_count": 13,
      "outputs": [
        {
          "output_type": "stream",
          "name": "stdout",
          "text": [
            "hh (1, 28, 28, 1)\n",
            "tf.Tensor(2, shape=(), dtype=uint8)\n",
            "(1, 28, 28, 1)\n"
          ]
        }
      ]
    },
    {
      "cell_type": "code",
      "source": [
        "def fgsm(model, x, y, eps):\n",
        "  # tensor of same shape as x to hold perturbation\n",
        "  #x coming in is already perturbed version of x\n",
        "  # delta = tf.zeros_like(x)\n",
        "  y = tf.one_hot(y, 10)\n",
        "  y = np.reshape(y, (1,10))\n",
        "  y_pred = None\n",
        "\n",
        "  num_iteration = 1\n",
        "  x = tf.cast(x, tf.float32)\n",
        "  while (num_iteration < 100):\n",
        "\n",
        "    with tf.GradientTape() as tape:\n",
        "        tape.watch(x)\n",
        "        y_pred = model(x)\n",
        "        y_pred = y_pred[1]\n",
        "        # print(\"y_pred\", y_pred)\n",
        "        # print(\"y\", y)\n",
        "        loss = tf.keras.losses.categorical_crossentropy(y, y_pred, from_logits=True)\n",
        "    gradient = tape.gradient(loss, x)\n",
        "    gradient /= tf.math.reduce_std(gradient) + 1e-8\n",
        "    signed_grad = tf.sign(gradient)\n",
        "    perturbation = eps*signed_grad\n",
        "    adv_x = x + perturbation\n",
        "    adv_x = tf.clip_by_value(adv_x, 0, 1) # make sure the perturbed image is still in [0, 1] range\n",
        "    x = adv_x\n",
        "    if num_iteration%10 == 0:\n",
        "      print(f\"Num_iterations: {num_iteration} \\n Y_Pred: {np.argmax(y_pred)} \\n Y: {np.argmax(y)}\")\n",
        "    if np.argmax(y_pred) != np.argmax(y):\n",
        "      break\n",
        "    num_iteration += 1\n",
        "  return adv_x, perturbation"
      ],
      "metadata": {
        "id": "xgGOFI1Rmr1a"
      },
      "execution_count": 28,
      "outputs": []
    },
    {
      "cell_type": "markdown",
      "source": [
        "## Attack and plot function"
      ],
      "metadata": {
        "id": "QY86wad56hln"
      }
    },
    {
      "cell_type": "code",
      "source": [
        "def run_attacks(img_arr, class_arr, model, att_func):\n",
        "  result = []\n",
        "  # result contains a tupple of AE and Pertubation\n",
        "\n",
        "  for img, cls in zip(img_arr, class_arr):\n",
        "    x_test_adv, perturbation = att_func(model, img, cls, 0.1)\n",
        "    result.append((x_test_adv, perturbation))\n",
        "\n",
        "  return result"
      ],
      "metadata": {
        "id": "FxH9CfN692EP"
      },
      "execution_count": 39,
      "outputs": []
    },
    {
      "cell_type": "code",
      "source": [
        "xb = reshaped_sample_twos[0]\n",
        "# plt.imshow(x)"
      ],
      "metadata": {
        "id": "BGdwUznCBmgC"
      },
      "execution_count": 29,
      "outputs": []
    },
    {
      "cell_type": "code",
      "source": [
        "x_test_adv, perturbation = fgsm(model, xb, y, 0.01)"
      ],
      "metadata": {
        "id": "zMY-vq3wnDbK",
        "colab": {
          "base_uri": "https://localhost:8080/"
        },
        "outputId": "47b4424d-1219-41e6-9451-bc684c00e4db"
      },
      "execution_count": 30,
      "outputs": [
        {
          "output_type": "stream",
          "name": "stdout",
          "text": [
            "Num_iterations: 10 \n",
            " Y_Pred: 2 \n",
            " Y: 2\n"
          ]
        }
      ]
    },
    {
      "cell_type": "markdown",
      "source": [
        "## Metrics for large Model"
      ],
      "metadata": {
        "id": "QnuBjR6P4Udq"
      }
    },
    {
      "cell_type": "code",
      "source": [
        "# x_test[5].shape\n",
        "# digit = x_test[16]\n",
        "# fig = plt.figure\n",
        "# plt.imshow(digit, cmap='gray')\n",
        "# print(y_test[16])\n",
        "\n",
        "perturbation = np.squeeze(perturbation)\n",
        "perturbation = np.expand_dims(perturbation, axis=2)\n",
        "print(perturbation.shape)\n",
        "\n",
        "plt.imshow(perturbation, cmap='gray')"
      ],
      "metadata": {
        "colab": {
          "base_uri": "https://localhost:8080/",
          "height": 465
        },
        "id": "4Wxcf7pA4cE-",
        "outputId": "1737a5a5-756c-49c4-e1fb-d28e06cf9791"
      },
      "execution_count": 17,
      "outputs": [
        {
          "output_type": "stream",
          "name": "stdout",
          "text": [
            "(28, 28, 1)\n"
          ]
        },
        {
          "output_type": "execute_result",
          "data": {
            "text/plain": [
              "<matplotlib.image.AxesImage at 0x7bc2d01740d0>"
            ]
          },
          "metadata": {},
          "execution_count": 17
        },
        {
          "output_type": "display_data",
          "data": {
            "text/plain": [
              "<Figure size 640x480 with 1 Axes>"
            ],
            "image/png": "[encoded data removed]"
          },
          "metadata": {}
        }
      ]
    },
    {
      "cell_type": "code",
      "source": [
        "print(x_test_adv.shape)\n",
        "print(x.shape)"
      ],
      "metadata": {
        "colab": {
          "base_uri": "https://localhost:8080/"
        },
        "id": "J-SB-F5J4d-V",
        "outputId": "e0786c99-4279-4b8b-bf30-804d473c70a2"
      },
      "execution_count": 18,
      "outputs": [
        {
          "output_type": "stream",
          "name": "stdout",
          "text": [
            "(1, 28, 28, 1)\n",
            "(1, 28, 28, 1)\n"
          ]
        }
      ]
    },
    {
      "cell_type": "code",
      "source": [
        "adv_image = np.squeeze(x_test_adv)\n",
        "adv_image = np.expand_dims(adv_image, axis=2)\n",
        "print(adv_image.shape)\n",
        "\n",
        "plt.imshow(adv_image, cmap='gray')"
      ],
      "metadata": {
        "colab": {
          "base_uri": "https://localhost:8080/",
          "height": 465
        },
        "id": "VXo9GJfb4kSe",
        "outputId": "99781efe-b10f-4a6e-e980-7efd31525814"
      },
      "execution_count": 19,
      "outputs": [
        {
          "output_type": "stream",
          "name": "stdout",
          "text": [
            "(28, 28, 1)\n"
          ]
        },
        {
          "output_type": "execute_result",
          "data": {
            "text/plain": [
              "<matplotlib.image.AxesImage at 0x7bc2d6d85510>"
            ]
          },
          "metadata": {},
          "execution_count": 19
        },
        {
          "output_type": "display_data",
          "data": {
            "text/plain": [
              "<Figure size 640x480 with 1 Axes>"
            ],
            "image/png": "[encoded data removed]"
          },
          "metadata": {}
        }
      ]
    },
    {
      "cell_type": "code",
      "source": [
        "adv_pred = model.predict(x_test_adv)\n",
        "org_pred = model.predict(x)\n",
        "\n",
        "org_pred = np.argmax(org_pred[1])\n",
        "adv_pred = np.argmax(adv_pred[1])\n",
        "# print(np.argmax(org_pred[1]))\n",
        "# print(np.argmax(adv_pred[1]))"
      ],
      "metadata": {
        "colab": {
          "base_uri": "https://localhost:8080/"
        },
        "id": "6zHeaadr4mgt",
        "outputId": "be748831-045e-43ac-e6ae-df51db151d68"
      },
      "execution_count": 20,
      "outputs": [
        {
          "output_type": "stream",
          "name": "stdout",
          "text": [
            "1/1 [==============================] - 0s 31ms/step\n",
            "1/1 [==============================] - 0s 32ms/step\n"
          ]
        }
      ]
    },
    {
      "cell_type": "code",
      "source": [
        "org_image = np.expand_dims(np.squeeze(x), axis=2)\n",
        "print(\"orig img\", org_image.shape)\n",
        "print(\"adv img\", adv_image.shape)"
      ],
      "metadata": {
        "colab": {
          "base_uri": "https://localhost:8080/"
        },
        "id": "Dufdvm214sx3",
        "outputId": "24d28444-7a25-4f1a-a5e8-1ee2cb8ec01b"
      },
      "execution_count": 21,
      "outputs": [
        {
          "output_type": "stream",
          "name": "stdout",
          "text": [
            "orig img (28, 28, 1)\n",
            "adv img (28, 28, 1)\n"
          ]
        }
      ]
    },
    {
      "cell_type": "markdown",
      "source": [
        "### Visualizing data large model"
      ],
      "metadata": {
        "id": "PVoaxPxe4xUn"
      }
    },
    {
      "cell_type": "code",
      "source": [
        "fig = plt.figure(figsize=(10, 10))\n",
        "\n",
        "rows = 1\n",
        "columns = 3\n",
        "\n",
        "fig.add_subplot(rows, columns, 1)\n",
        "plt.imshow(org_image, cmap='gray')\n",
        "plt.axis('off')\n",
        "plt.title(f'Original Image \\n prediction: {org_pred}')\n",
        "\n",
        "fig.add_subplot(rows, columns, 2)\n",
        "plt.imshow(perturbation, cmap='gray')\n",
        "plt.axis('off')\n",
        "plt.title(f'Pertubation: {adv_pred}')\n",
        "\n",
        "fig.add_subplot(rows, columns, 3)\n",
        "plt.imshow(adv_image, cmap='gray')\n",
        "plt.axis('off')\n",
        "plt.title(f'Adversarial Image \\n Prediction: {adv_pred}')"
      ],
      "metadata": {
        "colab": {
          "base_uri": "https://localhost:8080/",
          "height": 319
        },
        "id": "QdXbbf8j4wjG",
        "outputId": "64d1e77c-0724-447a-d377-38b33b8611fe"
      },
      "execution_count": 22,
      "outputs": [
        {
          "output_type": "execute_result",
          "data": {
            "text/plain": [
              "Text(0.5, 1.0, 'Adversarial Image \\n Prediction: 8')"
            ]
          },
          "metadata": {},
          "execution_count": 22
        },
        {
          "output_type": "display_data",
          "data": {
            "text/plain": [
              "<Figure size 1000x1000 with 3 Axes>"
            ],
            "image/png": "[encoded data removed]"
          },
          "metadata": {}
        }
      ]
    },
    {
      "cell_type": "markdown",
      "source": [
        "### Attack evaluation large model"
      ],
      "metadata": {
        "id": "dfcyyXYD47sS"
      }
    },
    {
      "cell_type": "code",
      "source": [
        "# flatten the image arrays as a 1D array\n",
        "org_image_flattened = org_image.flatten()\n",
        "adv_image_flattened = adv_image.flatten()\n",
        "print(np.shape(org_image_flattened))\n",
        "print(np.shape(adv_image_flattened))\n",
        "\n",
        "# # generating count histogram for the images\n",
        "# org_image_counter = Counter(org_image_flattened)\n",
        "# org_image_hist = []\n",
        "\n",
        "# adv_image_counter = Counter(adv_image_flattened)\n",
        "# adv_image_hist = []\n",
        "\n",
        "# for num in range(256):\n",
        "#   if num in org_image_counter.keys():\n",
        "#     org_image_hist.append(org_image_counter[num])\n",
        "#   else:\n",
        "#     org_image_hist.append(0)\n",
        "\n",
        "# for num in range(256):\n",
        "#   if num in adv_image_counter.keys():\n",
        "#     adv_image_hist.append(adv_image_counter[num])\n",
        "#   else:\n",
        "#     adv_image_hist.append(0)\n",
        "\n",
        "\n",
        "# compute the euclidean distance between the two images\n",
        "# distance1 = np.linalg.norm(np.array(org_image_hist) - np.array(adv_image_hist))\n",
        "\n",
        "distance = np.linalg.norm(org_image_flattened - adv_image_flattened)\n",
        "\n",
        "print(f\"Distance: {distance}\")\n"
      ],
      "metadata": {
        "colab": {
          "base_uri": "https://localhost:8080/"
        },
        "id": "z6saXGbF4-Vw",
        "outputId": "99ec29de-4cfb-446e-fd5a-396b900ca78c"
      },
      "execution_count": 23,
      "outputs": [
        {
          "output_type": "stream",
          "name": "stdout",
          "text": [
            "(784,)\n",
            "(784,)\n",
            "Distance: 9.834304809570312\n"
          ]
        }
      ]
    },
    {
      "cell_type": "markdown",
      "source": [
        "## Metrics for small model"
      ],
      "metadata": {
        "id": "IPrwn2i84eh1"
      }
    },
    {
      "cell_type": "code",
      "source": [
        "# x_test[5].shape\n",
        "# digit = x_test[16]\n",
        "# fig = plt.figure\n",
        "# plt.imshow(digit, cmap='gray')\n",
        "# print(y_test[16])\n",
        "\n",
        "perturbation = np.squeeze(perturbation)\n",
        "perturbation = np.expand_dims(perturbation, axis=2)\n",
        "print(perturbation.shape)\n",
        "\n",
        "plt.imshow(perturbation, cmap='gray')"
      ],
      "metadata": {
        "id": "cujk-ndJn3NL",
        "outputId": "c371e030-bfd2-4d7f-fc1b-45d7bb6d993f",
        "colab": {
          "base_uri": "https://localhost:8080/",
          "height": 465
        }
      },
      "execution_count": 16,
      "outputs": [
        {
          "output_type": "stream",
          "name": "stdout",
          "text": [
            "(28, 28, 1)\n"
          ]
        },
        {
          "output_type": "execute_result",
          "data": {
            "text/plain": [
              "<matplotlib.image.AxesImage at 0x7ece9175d9c0>"
            ]
          },
          "metadata": {},
          "execution_count": 16
        },
        {
          "output_type": "display_data",
          "data": {
            "text/plain": [
              "<Figure size 640x480 with 1 Axes>"
            ],
            "image/png": "[encoded data removed]"
          },
          "metadata": {}
        }
      ]
    },
    {
      "cell_type": "code",
      "source": [
        "print(x_test_adv.shape)\n",
        "print(x.shape)"
      ],
      "metadata": {
        "colab": {
          "base_uri": "https://localhost:8080/"
        },
        "id": "C3ip8EuQeMR5",
        "outputId": "6380a919-19f0-4e3a-c382-78457815dd6d"
      },
      "execution_count": 36,
      "outputs": [
        {
          "output_type": "stream",
          "name": "stdout",
          "text": [
            "(1, 28, 28, 1)\n",
            "(1, 28, 28, 1)\n"
          ]
        }
      ]
    },
    {
      "cell_type": "code",
      "source": [
        "adv_image = np.squeeze(x_test_adv)\n",
        "adv_image = np.expand_dims(adv_image, axis=2)\n",
        "print(adv_image.shape)\n",
        "\n",
        "plt.imshow(adv_image, cmap='gray')"
      ],
      "metadata": {
        "colab": {
          "base_uri": "https://localhost:8080/",
          "height": 465
        },
        "id": "Dab5Cnq-kZi6",
        "outputId": "7e333bbe-50f3-4ccb-af22-80e9e3ac35be"
      },
      "execution_count": 17,
      "outputs": [
        {
          "output_type": "stream",
          "name": "stdout",
          "text": [
            "(28, 28, 1)\n"
          ]
        },
        {
          "output_type": "execute_result",
          "data": {
            "text/plain": [
              "<matplotlib.image.AxesImage at 0x7ece917b0f40>"
            ]
          },
          "metadata": {},
          "execution_count": 17
        },
        {
          "output_type": "display_data",
          "data": {
            "text/plain": [
              "<Figure size 640x480 with 1 Axes>"
            ],
            "image/png": "[encoded data removed]"
          },
          "metadata": {}
        }
      ]
    },
    {
      "cell_type": "code",
      "source": [
        "adv_pred = model.predict(x_test_adv)\n",
        "org_pred = model.predict(x)\n",
        "\n",
        "org_pred = np.argmax(org_pred[1])\n",
        "adv_pred = np.argmax(adv_pred[1])\n",
        "# print(np.argmax(org_pred[1]))\n",
        "# print(np.argmax(adv_pred[1]))"
      ],
      "metadata": {
        "id": "-Qo0Eq9Ontgz",
        "outputId": "4bd809ca-f7b3-46f8-d2ea-a14efe3a2ab6",
        "colab": {
          "base_uri": "https://localhost:8080/"
        }
      },
      "execution_count": 41,
      "outputs": [
        {
          "output_type": "stream",
          "name": "stdout",
          "text": [
            "1/1 [==============================] - 0s 20ms/step\n",
            "1/1 [==============================] - 0s 18ms/step\n"
          ]
        }
      ]
    },
    {
      "cell_type": "code",
      "source": [
        "org_image = np.expand_dims(np.squeeze(x), axis=2)\n",
        "print(\"orig img\", org_image.shape)\n",
        "print(\"adv img\", adv_image.shape)"
      ],
      "metadata": {
        "colab": {
          "base_uri": "https://localhost:8080/"
        },
        "id": "fwPXcPmcbEq5",
        "outputId": "8d124b83-fb9f-46da-e7ee-680a56037a5e"
      },
      "execution_count": 28,
      "outputs": [
        {
          "output_type": "stream",
          "name": "stdout",
          "text": [
            "orig img (28, 28, 1)\n",
            "adv img (28, 28, 1)\n"
          ]
        }
      ]
    },
    {
      "cell_type": "markdown",
      "source": [
        "## Visualizing the data Small Model"
      ],
      "metadata": {
        "id": "OnSXaw43cu5f"
      }
    },
    {
      "cell_type": "code",
      "source": [
        "fig = plt.figure(figsize=(10, 10))\n",
        "\n",
        "rows = 1\n",
        "columns = 3\n",
        "\n",
        "fig.add_subplot(rows, columns, 1)\n",
        "plt.imshow(org_image)\n",
        "plt.axis('off')\n",
        "plt.title(f'Original Image \\n prediction: {org_pred}')\n",
        "\n",
        "fig.add_subplot(rows, columns, 2)\n",
        "plt.imshow(perturbation)\n",
        "plt.axis('off')\n",
        "plt.title(f'Pertubation: {adv_pred}')\n",
        "\n",
        "fig.add_subplot(rows, columns, 3)\n",
        "plt.imshow(adv_image)\n",
        "plt.axis('off')\n",
        "plt.title(f'Adversarial Image \\n Prediction: {adv_pred}')"
      ],
      "metadata": {
        "colab": {
          "base_uri": "https://localhost:8080/",
          "height": 440
        },
        "id": "GfKm6wyHctSu",
        "outputId": "a5377158-79ad-4764-995f-01c2e5696506"
      },
      "execution_count": 42,
      "outputs": [
        {
          "output_type": "execute_result",
          "data": {
            "text/plain": [
              "Text(0.5, 1.0, 'Adversarial Image \\n Prediction: 3')"
            ]
          },
          "metadata": {},
          "execution_count": 42
        },
        {
          "output_type": "display_data",
          "data": {
            "text/plain": [
              "<Figure size 1000x1000 with 2 Axes>"
            ],
            "image/png": "[encoded data removed]"
          },
          "metadata": {}
        }
      ]
    },
    {
      "cell_type": "markdown",
      "source": [
        "## Attack Evaluation - Distance Measure"
      ],
      "metadata": {
        "id": "8SOnW1ygfR7j"
      }
    },
    {
      "cell_type": "code",
      "source": [
        "from PIL import Image\n",
        "from collections import Counter"
      ],
      "metadata": {
        "id": "OUjvGx35fZgx"
      },
      "execution_count": 43,
      "outputs": []
    },
    {
      "cell_type": "code",
      "source": [
        "# flatten the image arrays as a 1D array\n",
        "org_image_flattened = org_image.flatten()\n",
        "adv_image_flattened = adv_image.flatten()\n",
        "print(np.shape(org_image_flattened))\n",
        "print(np.shape(adv_image_flattened))\n",
        "\n",
        "# # generating count histogram for the images\n",
        "# org_image_counter = Counter(org_image_flattened)\n",
        "# org_image_hist = []\n",
        "\n",
        "# adv_image_counter = Counter(adv_image_flattened)\n",
        "# adv_image_hist = []\n",
        "\n",
        "# for num in range(256):\n",
        "#   if num in org_image_counter.keys():\n",
        "#     org_image_hist.append(org_image_counter[num])\n",
        "#   else:\n",
        "#     org_image_hist.append(0)\n",
        "\n",
        "# for num in range(256):\n",
        "#   if num in adv_image_counter.keys():\n",
        "#     adv_image_hist.append(adv_image_counter[num])\n",
        "#   else:\n",
        "#     adv_image_hist.append(0)\n",
        "\n",
        "\n",
        "# compute the euclidean distance between the two images\n",
        "# distance1 = np.linalg.norm(np.array(org_image_hist) - np.array(adv_image_hist))\n",
        "\n",
        "distance = np.linalg.norm(org_image_flattened - adv_image_flattened)\n",
        "\n",
        "print(f\"Distance: {distance}\")\n",
        "\n"
      ],
      "metadata": {
        "colab": {
          "base_uri": "https://localhost:8080/"
        },
        "id": "RVgu4q6qflYC",
        "outputId": "63db3d78-9eca-428e-f55d-e253a853ab51"
      },
      "execution_count": 51,
      "outputs": [
        {
          "output_type": "stream",
          "name": "stdout",
          "text": [
            "(784,)\n",
            "(784,)\n",
            "Distance 1 287.7377278008569 \n",
            " distnace 2 2.1441874504089355\n"
          ]
        }
      ]
    }
  ]
}