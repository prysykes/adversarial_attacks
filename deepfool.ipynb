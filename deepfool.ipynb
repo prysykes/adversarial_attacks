{
  "nbformat": 4,
  "nbformat_minor": 0,
  "metadata": {
    "colab": {
      "provenance": [],
      "gpuType": "T4"
    },
    "kernelspec": {
      "name": "python3",
      "display_name": "Python 3"
    },
    "language_info": {
      "name": "python"
    },
    "accelerator": "GPU",
    "gpuClass": "standard"
  },
  "cells": [
    {
      "cell_type": "code",
      "source": [
        "import tensorflow as tf\n",
        "import numpy as np\n",
        "\n",
        "def deepfool_attack(model, image, num_classes=10, max_iter=50, epsilon=0.01):\n",
        "    image = tf.convert_to_tensor(image)\n",
        "    image = tf.expand_dims(image, axis=0)\n",
        "    \n",
        "    # Convert the model's output to logits\n",
        "    def model_logits(x):\n",
        "        return model(x, training=False)\n",
        "    \n",
        "    # Define the Jacobian calculation\n",
        "    def jacobian_fn(x):\n",
        "        return tf.gradients(model_logits(x), x)[0]\n",
        "\n",
        "    # Obtain the model's predictions and the corresponding label\n",
        "    f_image = model_logits(image)\n",
        "    I = tf.argsort(tf.reshape(f_image, shape=(num_classes,)), direction='DESCENDING')\n",
        "    I = I[0:num_classes]\n",
        "    label = I[0]\n",
        "    \n",
        "    w = tf.zeros_like(image)\n",
        "    r_tot = tf.zeros_like(image)\n",
        "    \n",
        "    k_i = label\n",
        "    for _ in range(max_iter):\n",
        "        image_variable = tf.Variable(image, dtype=tf.float32)\n",
        "        with tf.GradientTape() as tape:\n",
        "            tape.watch(image_variable)\n",
        "            f_i = tf.reshape(model_logits(image_variable), shape=(num_classes,))\n",
        "            loss = tf.reduce_sum(tf.square(f_i - f_image[label]))\n",
        "            \n",
        "        grad_f_i = tape.gradient(loss, image_variable)\n",
        "        grad_f_i = tf.reshape(grad_f_i, shape=(-1,))\n",
        "        grad_f_i = tf.reshape(grad_f_i, shape=(num_classes, -1))\n",
        "        \n",
        "        num_classes_mask = np.ones(num_classes)\n",
        "        num_classes_mask[k_i] = 0\n",
        "        \n",
        "        # Calculate the perturbation\n",
        "        delta_w = tf.linalg.pinv(grad_f_i) * num_classes_mask[:, np.newaxis]\n",
        "        delta_w_norm = tf.norm(delta_w)\n",
        "        \n",
        "        if delta_w_norm == 0:\n",
        "            break\n",
        "        \n",
        "        r_i = (delta_w_norm + 1e-4) * delta_w / delta_w_norm\n",
        "        r_tot = tf.add(r_tot, r_i)\n",
        "        image = tf.clip_by_value(image + epsilon * r_tot / tf.norm(r_tot), clip_value_min=-1.0, clip_value_max=1.0)\n",
        "        \n",
        "        f_image = model_logits(image)\n",
        "        k_i = tf.argmax(tf.reshape(f_image, shape=(num_classes,)), axis=0)\n",
        "        \n",
        "    perturbation = epsilon * r_tot / tf.norm(r_tot)\n",
        "    adversarial_image = tf.clip_by_value(image + perturbation, clip_value_min=-1.0, clip_value_max=1.0)\n",
        "    \n",
        "    return adversarial_image.numpy()[0]"
      ],
      "metadata": {
        "id": "XSluRxBLG2EX"
      },
      "execution_count": null,
      "outputs": []
    },
    {
      "cell_type": "markdown",
      "source": [
        "In this implementation, the model parameter represents your TensorFlow model, image is the input image, num_classes is the number of classes in your model's output, max_iter is the maximum number of iterations, and epsilon controls the magnitude of the perturbation.\n",
        "\n",
        "To use this code, you need to provide your own TensorFlow model and an input image. The deepfool_attack function will return an adversarial image that is crafted using the DeepFool attack.\n",
        "\n",
        "Please note that this implementation assumes that your model takes a single input image at a time. If your model expects a batch of images, you may need to make some modifications to accommodate that. Also, be aware of the ethical considerations and legal implications when using adversarial attacks.\n",
        "\n",
        "The image shape used in the provided DeepFool attack implementation is expected to be a 4-dimensional tensor with the shape (batch_size, height, width, channels).\n",
        "\n",
        "In the code snippet, the input image is converted to a TensorFlow tensor using tf.convert_to_tensor(image), and then expanded along the batch dimension using tf.expand_dims(image, axis=0) to create a batch of size 1. Therefore, the expected shape of the input image is (1, height, width, channels).\n",
        "\n",
        "Here's an example of how you can use the DeepFool attack implementation with an input image:\n",
        "\n",
        "\n",
        "The shape of f_image in the provided DeepFool attack implementation would depend on the output shape of your model. In the code snippet, f_image is obtained by passing the input image to the model_logits function, which is assumed to return the logits (raw model output) of the model.\n",
        "\n",
        "Since the shape of f_image is derived from the model's output, it will match the output shape of your specific model. In general, the shape of f_image would be (batch_size, num_classes).\n",
        "\n",
        "For example, if your model is a classification model with 10 classes and expects input images of size (224, 224, 3), and you are using a batch size of 1, then the shape of f_image would be (1, 10).\n",
        "\n",
        "Please ensure that your model and the model_logits function are set up correctly to provide the desired output shape.\n",
        "\n",
        "In the DeepFool attack code provided, w and r_tot are variables used to accumulate the perturbation and track the total perturbation applied to the input image during each iteration of the attack.\n",
        "\n",
        "w: This variable represents the accumulated perturbation that is being added to the input image at each iteration. It is initialized as a tensor of zeros with the same shape as the input image. w is updated by adding the perturbation calculated in each iteration, r_i, to itself.\n",
        "\n",
        "r_tot: This variable keeps track of the total perturbation applied to the input image across all iterations of the attack. It is also initialized as a tensor of zeros with the same shape as the input image. r_tot is updated by adding the perturbation of the current iteration, r_i, to itself.\n",
        "\n",
        "By accumulating the perturbations in w and r_tot over iterations, the DeepFool attack gradually modifies the input image to cause misclassification by pushing it closer to the decision boundary of the target class. The final adversarial image is obtained by adding the accumulated perturbation, r_tot, to the original input image.\n",
        "\n",
        "Both w and r_tot are tensors with the same shape as the input image tensor and are updated in each iteration of the attack loop."
      ],
      "metadata": {
        "id": "tZ6uqSHOHCNu"
      }
    },
    {
      "cell_type": "markdown",
      "source": [
        "In this code snippet, model refers to the TensorFlow model that you want to perform the DeepFool attack on, image is the input image, num_classes is the number of classes in your model's output, max_iter is the maximum number of iterations, and epsilon controls the magnitude of the perturbation.\n",
        "\n",
        "To use this code, you need to provide your own TensorFlow model and an input image. The deepfool_attack function will return an adversarial image that is crafted using the DeepFool attack.\n",
        "\n",
        "Please note that the implementation provided here is a basic version of DeepFool and may require further customization depending on your specific use case. Additionally, it is important to keep in mind the ethical considerations and legal implications of adversarial attacks."
      ],
      "metadata": {
        "id": "4atXHhiTG3F-"
      }
    },
    {
      "cell_type": "markdown",
      "source": [
        "DeepFool is an adversarial attack method designed to fool machine learning models, particularly deep neural networks. It is an iterative attack algorithm that perturbs input samples with minimal modifications to make them misclassified by the target model.\n",
        "\n",
        "Here's a high-level overview of the DeepFool attack algorithm:\n",
        "\n",
        "Input: A pre-trained target model, a clean input sample to be perturbed, and a maximum number of iterations allowed.\n",
        "Output: Perturbed input sample that is misclassified by the target model.\n",
        "Initialization: Start with the clean input sample.\n",
        "Iteration:\n",
        "Compute the gradient of the target model's output with respect to the input sample.\n",
        "Select the class with the minimum gradient magnitude as the initial adversarial class.\n",
        "Calculate the perturbation required to change the classification to the initial adversarial class using linearization.\n",
        "Update the input sample by adding the perturbation.\n",
        "Repeat the above steps until the perturbed sample is misclassified or the maximum number of iterations is reached.\n",
        "Return: The perturbed sample that is misclassified by the target model.\n",
        "Please note that implementing the DeepFool attack algorithm requires knowledge of the specific deep learning framework you are using, such as TensorFlow or PyTorch, and familiarity with the underlying model's architecture and gradients.\n",
        "\n",
        "Here's an example using TensorFlow to perform the DeepFool attack:"
      ],
      "metadata": {
        "id": "NE4ICP4foePM"
      }
    },
    {
      "cell_type": "markdown",
      "source": [
        "In the DeepFool attack algorithm, selecting the class with the minimum gradient magnitude as the initial adversarial class is a crucial step to guide the perturbation process towards misclassification.\n",
        "\n",
        "The rationale behind this step is that the class with the minimum gradient magnitude is the most easily \"confusable\" class for the current input sample. By perturbing the input towards this class, the hope is to reach a decision boundary where the target model misclassifies the perturbed sample.\n",
        "\n",
        "The intuition behind selecting the minimum gradient magnitude is based on the assumption that the decision boundary of a well-trained model is smooth and linear in the vicinity of the input sample. In this local linear approximation, the gradient of the model's output represents the direction of steepest ascent or descent towards the decision boundaries.\n",
        "\n",
        "By selecting the class with the minimum gradient magnitude, DeepFool aims to find the smallest perturbation required to cross the decision boundary and misclassify the input sample. The perturbation is calculated based on linearization and is applied iteratively to navigate the input towards the desired adversarial class.\n",
        "\n",
        "In summary, selecting the class with the minimum gradient magnitude as the initial adversarial class helps guide the DeepFool attack towards finding the smallest perturbation that leads to misclassification. It leverages the local linearity assumption to iteratively modify the input sample and fool the target model.\n",
        "\n",
        "## It is important to select the class with the minimum gradient output with respect to the input image because deepfool is an untargeted attack hence selecting this class means that it will be easier to push accross the decision boundy of the model wrt this class"
      ],
      "metadata": {
        "id": "95DK4Rxool64"
      }
    },
    {
      "cell_type": "code",
      "source": [
        "import tensorflow as tf\n",
        "import os\n",
        "import numpy as np\n",
        "from tensorflow import keras\n",
        "from tensorflow.keras.datasets import mnist\n",
        "import matplotlib.pyplot as plt\n",
        "#!pip install -Uqq ipdb\n",
        "import ipdb"
      ],
      "metadata": {
        "id": "VezSKlHno_JT"
      },
      "execution_count": 1,
      "outputs": []
    },
    {
      "cell_type": "code",
      "source": [
        "# pathh = 'MNISTClassifier'\n",
        "\n",
        "# for parent, dirs, files in os.walk(pathh, topdown=False):\n",
        "#   for file in files:\n",
        "#     file_path = os.path.join(parent, file)\n",
        "#     os.remove(file_path)\n",
        "#   for dir in dirs:\n",
        "#     dir_path = os.path.join(parent, dir)\n",
        "#     os.rmdir(dir_path)\n",
        "  \n",
        "#   os.rmdir('/content/MNISTClassifier')"
      ],
      "metadata": {
        "id": "C_T8cxFOzfmY"
      },
      "execution_count": 8,
      "outputs": []
    },
    {
      "cell_type": "code",
      "source": [
        "%pdb on"
      ],
      "metadata": {
        "colab": {
          "base_uri": "https://localhost:8080/"
        },
        "id": "cXFITXClunUV",
        "outputId": "25d85340-fff5-421d-c517-f4e2e873fd53"
      },
      "execution_count": 118,
      "outputs": [
        {
          "output_type": "stream",
          "name": "stdout",
          "text": [
            "Automatic pdb calling has been turned ON\n"
          ]
        }
      ]
    },
    {
      "cell_type": "code",
      "source": [
        "(images, labels), (test_images, test_labels) = mnist.load_data() \n",
        "images = images.reshape((60000, 28, 28)).astype(\"float32\") / 255\n",
        "images = np.expand_dims(images, axis=3)\n",
        "test_images = test_images.reshape((10000, 28, 28)).astype(\"float32\") / 255\n",
        "test_images = np.expand_dims(test_images, axis=3)\n",
        "x_train, x_test = images[10000:], images[:10000]\n",
        "y_train, y_test = labels[10000:], labels[:10000]"
      ],
      "metadata": {
        "id": "diCfhcOaA1gN"
      },
      "execution_count": 2,
      "outputs": []
    },
    {
      "cell_type": "code",
      "source": [
        "x_test[11].shape\n",
        "digit = x_test[65]\n",
        "fig = plt.figure\n",
        "plt.imshow(digit, cmap='gray')\n",
        "print(y_test[16])\n"
      ],
      "metadata": {
        "colab": {
          "base_uri": "https://localhost:8080/",
          "height": 447
        },
        "id": "niWUJxprA7IT",
        "outputId": "4d6c9cb4-2f30-46ea-9e9f-1261eed6ee8e"
      },
      "execution_count": 3,
      "outputs": [
        {
          "output_type": "stream",
          "name": "stdout",
          "text": [
            "2\n"
          ]
        },
        {
          "output_type": "display_data",
          "data": {
            "text/plain": [
              "<Figure size 640x480 with 1 Axes>"
            ],
            "image/png": "[encoded data removed]"
          },
          "metadata": {}
        }
      ]
    },
    {
      "cell_type": "code",
      "source": [
        "few_twos = []\n",
        "count = 0\n",
        "for index, label in enumerate(y_test):\n",
        "  if count > 4:\n",
        "    break\n",
        "  if label == 5:\n",
        "    few_twos.append((index, label))\n",
        "    count += 1\n",
        "\n",
        "print(few_twos)"
      ],
      "metadata": {
        "colab": {
          "base_uri": "https://localhost:8080/"
        },
        "id": "n23Q_JwaA-Wc",
        "outputId": "001c773f-ceb0-414a-e6e1-e4435756a28d"
      },
      "execution_count": 4,
      "outputs": [
        {
          "output_type": "stream",
          "name": "stdout",
          "text": [
            "[(0, 5), (11, 5), (35, 5), (47, 5), (65, 5)]\n"
          ]
        }
      ]
    },
    {
      "cell_type": "code",
      "source": [
        "class MNISTClassifier(tf.keras.Model):\n",
        "    def __init__(self):\n",
        "        super(MNISTClassifier, self).__init__()\n",
        "        \n",
        "        # Define the layers\n",
        "        #for feature extration\n",
        "        self.conv1 = tf.keras.layers.Conv2D(32, kernel_size=(3, 3), activation='relu', input_shape=(28, 28, 1))\n",
        "        self.max_pool1 = tf.keras.layers.MaxPooling2D(pool_size=(2, 2))\n",
        "        self.conv2 = tf.keras.layers.Conv2D(64, kernel_size=(3, 3), activation='relu')\n",
        "        self.max_pool2 = tf.keras.layers.MaxPooling2D(pool_size=(2, 2))\n",
        "        self.flatten = tf.keras.layers.Flatten()\n",
        "        self.dropout1 = tf.keras.layers.Dropout(0.25)\n",
        "        self.dense1 = tf.keras.layers.Dense(128, activation='relu')\n",
        "        self.dropout2 = tf.keras.layers.Dropout(0.5)\n",
        "        self.dense2 = tf.keras.layers.Dense(10)\n",
        "        self.layers_list = [self.conv1, self.max_pool1, self.conv2, self.max_pool2,\n",
        "                           self.flatten, self.dropout1, self.dense1, self.dropout2, self.dense2]\n",
        "    @tf.function\n",
        "    def call(self, *args, **kwargs):\n",
        "        # Define the forward pass\n",
        "        # output is the model logits\n",
        "        activation_list = []\n",
        "        out = args[0]\n",
        "        for layer in self.layers_list:                  \n",
        "           out = layer(out)\n",
        "           activation_list.append(out)\n",
        "\n",
        "        # if kwargs['training']:\n",
        "        #   #notice that training is a kw argument checked when fit is called\n",
        "        #   #so when model is training, all I need is the output logits to call the loss function upon\n",
        "        #   return out\n",
        "        # else:          \n",
        "          # prob = tf.nn.softmax(out)\n",
        "        return out"
      ],
      "metadata": {
        "id": "7NDxRnObBAFM"
      },
      "execution_count": 5,
      "outputs": []
    },
    {
      "cell_type": "code",
      "source": [
        "class SaveFinalTrainingLogitsProp(keras.callbacks.Callback):\n",
        "  def on_train_end(self, logs):\n",
        "    self.out = model.predict(x_train)\n",
        "    self.prob = tf.nn.softmax(self.out)\n",
        "    print(self.out.shape, self.prob.shape)"
      ],
      "metadata": {
        "id": "3J0KsMyIIG1N"
      },
      "execution_count": 91,
      "outputs": []
    },
    {
      "cell_type": "code",
      "source": [
        "model = MNISTClassifier()\n",
        "model.compile(loss=tf.keras.losses.SparseCategoricalCrossentropy(from_logits=True),\n",
        "              optimizer=tf.keras.optimizers.Adam(),\n",
        "              metrics=['accuracy'])\n",
        "\n",
        "model.fit(x_train, y_train, epochs=10, validation_data=(x_test, y_test))\n",
        "\n",
        "model.save('MNISTClassifier')\n",
        "# model = keras.models.load_model(\"MNISTClassifier.keras\")"
      ],
      "metadata": {
        "colab": {
          "base_uri": "https://localhost:8080/"
        },
        "id": "e-5wM_r0IKuz",
        "outputId": "27f5af85-50f3-4a19-d24a-afd02907ffaf"
      },
      "execution_count": 6,
      "outputs": [
        {
          "output_type": "stream",
          "name": "stdout",
          "text": [
            "Epoch 1/10\n",
            "1563/1563 [==============================] - 36s 23ms/step - loss: 0.2375 - accuracy: 0.9265 - val_loss: 0.0664 - val_accuracy: 0.9794\n",
            "Epoch 2/10\n",
            "1563/1563 [==============================] - 35s 23ms/step - loss: 0.0916 - accuracy: 0.9727 - val_loss: 0.0506 - val_accuracy: 0.9863\n",
            "Epoch 3/10\n",
            "1563/1563 [==============================] - 36s 23ms/step - loss: 0.0709 - accuracy: 0.9786 - val_loss: 0.0415 - val_accuracy: 0.9879\n",
            "Epoch 4/10\n",
            "1563/1563 [==============================] - 35s 22ms/step - loss: 0.0585 - accuracy: 0.9824 - val_loss: 0.0401 - val_accuracy: 0.9882\n",
            "Epoch 5/10\n",
            "1563/1563 [==============================] - 35s 22ms/step - loss: 0.0499 - accuracy: 0.9847 - val_loss: 0.0377 - val_accuracy: 0.9896\n",
            "Epoch 6/10\n",
            "1563/1563 [==============================] - 35s 22ms/step - loss: 0.0459 - accuracy: 0.9863 - val_loss: 0.0406 - val_accuracy: 0.9880\n",
            "Epoch 7/10\n",
            "1563/1563 [==============================] - 35s 22ms/step - loss: 0.0422 - accuracy: 0.9869 - val_loss: 0.0376 - val_accuracy: 0.9891\n",
            "Epoch 8/10\n",
            "1563/1563 [==============================] - 35s 23ms/step - loss: 0.0381 - accuracy: 0.9879 - val_loss: 0.0373 - val_accuracy: 0.9903\n",
            "Epoch 9/10\n",
            "1563/1563 [==============================] - 34s 22ms/step - loss: 0.0344 - accuracy: 0.9889 - val_loss: 0.0324 - val_accuracy: 0.9908\n",
            "Epoch 10/10\n",
            "1563/1563 [==============================] - 35s 22ms/step - loss: 0.0328 - accuracy: 0.9903 - val_loss: 0.0349 - val_accuracy: 0.9900\n"
          ]
        },
        {
          "output_type": "stream",
          "name": "stderr",
          "text": [
            "WARNING:absl:Found untraced functions such as _jit_compiled_convolution_op, _jit_compiled_convolution_op, _update_step_xla while saving (showing 3 of 3). These functions will not be directly callable after loading.\n"
          ]
        }
      ]
    },
    {
      "cell_type": "code",
      "source": [
        "# select a few twos from the test dataset and reshape\n",
        "# twos are at [(5, 2), (16, 2), (25, 2), (28, 2), (76, 2)]\n",
        "\n",
        "twos_tuple = [(0, 5), (11, 5), (35, 5), (47, 5), (65, 5)]\n",
        "reshaped_sample_twos = []\n",
        "for tup in twos_tuple:\n",
        "  a_two = x_test[tup[0]]\n",
        "  a_two = np.reshape(a_two, (-1, 28, 28, 1))\n",
        "  reshaped_sample_twos.append(a_two)\n",
        "reshaped_sample_twos = np.array(reshaped_sample_twos)\n",
        "# a_five = np.reshape(x_test[47], (-1, 28, 28, 1))\n",
        "# print(a_five.shape)"
      ],
      "metadata": {
        "id": "otIrjnrdIO7h"
      },
      "execution_count": 7,
      "outputs": []
    },
    {
      "cell_type": "code",
      "source": [
        "print(reshaped_sample_twos.shape) #the network expects a rank 4 tensor ie. batch, width, hieght, channel"
      ],
      "metadata": {
        "colab": {
          "base_uri": "https://localhost:8080/"
        },
        "id": "jBXt9tAqIRf7",
        "outputId": "291b9533-3a22-483e-ed5b-85d8d3d7ec6c"
      },
      "execution_count": 8,
      "outputs": [
        {
          "output_type": "stream",
          "name": "stdout",
          "text": [
            "(5, 1, 28, 28, 1)\n"
          ]
        }
      ]
    },
    {
      "cell_type": "code",
      "source": [
        "# location of 2 in x_test # number 2 are found in these location: [(5, 2), (16, 2), (25, 2), (28, 2), (76, 2)]\n",
        "model = tf.keras.models.load_model('MNISTClassifier')\n",
        "\n",
        "prediction = []\n",
        "for sample in reshaped_sample_twos:\n",
        "  sample_prediction = model.predict(sample)\n",
        "  prediction.append(sample_prediction)\n",
        "# print(np.argmax(prediction))\n",
        "print(np.argmax(prediction[0]))"
      ],
      "metadata": {
        "colab": {
          "base_uri": "https://localhost:8080/"
        },
        "id": "j7ZK0UrIIUMe",
        "outputId": "34cbfa59-2a0d-4f2b-cc0b-843e1c199b5a"
      },
      "execution_count": 10,
      "outputs": [
        {
          "output_type": "stream",
          "name": "stdout",
          "text": [
            "1/1 [==============================] - 0s 61ms/step\n",
            "1/1 [==============================] - 0s 17ms/step\n",
            "1/1 [==============================] - 0s 17ms/step\n",
            "1/1 [==============================] - 0s 15ms/step\n",
            "1/1 [==============================] - 0s 19ms/step\n",
            "5\n"
          ]
        }
      ]
    },
    {
      "cell_type": "code",
      "source": [
        "print(tf.one_hot(y_test[11], 10)) #creates a 0n-hot encoded output label to enable us calculate the distance"
      ],
      "metadata": {
        "colab": {
          "base_uri": "https://localhost:8080/"
        },
        "id": "vQf6m6wDIXvG",
        "outputId": "a06ebc96-d599-4ccb-a484-d7c365a53212"
      },
      "execution_count": 11,
      "outputs": [
        {
          "output_type": "stream",
          "name": "stdout",
          "text": [
            "tf.Tensor([0. 0. 0. 0. 0. 1. 0. 0. 0. 0.], shape=(10,), dtype=float32)\n"
          ]
        }
      ]
    },
    {
      "cell_type": "code",
      "source": [
        "reshaped_sample_twos[0].shape\n",
        "#squeze to drop first dim\n",
        "squeze_two = np.expand_dims(np.squeeze(reshaped_sample_twos[3]), axis=2)\n",
        "squeze_two.shape\n",
        "x = squeze_two\n",
        "x = np.expand_dims(x, axis=0)\n",
        "x = tf.convert_to_tensor(x)\n",
        "y = y_test[5]\n",
        "y = tf.convert_to_tensor(y)\n",
        "\n",
        "print(y)\n",
        "print(x.shape)"
      ],
      "metadata": {
        "colab": {
          "base_uri": "https://localhost:8080/"
        },
        "id": "eddhEH-IIaRR",
        "outputId": "e1f3ab44-d163-4f3b-aafe-b225b3e914a7"
      },
      "execution_count": 40,
      "outputs": [
        {
          "output_type": "stream",
          "name": "stdout",
          "text": [
            "tf.Tensor(2, shape=(), dtype=uint8)\n",
            "(1, 28, 28, 1)\n"
          ]
        }
      ]
    },
    {
      "cell_type": "code",
      "source": [
        "# def deepfool_attack(model, image, num_classes=10, max_iter=50, epsilon=0.01):\n",
        "#   image = tf.convert_to_tensor(image)\n",
        "  \n",
        "#   # return image.shape\n",
        "\n",
        "#   #get output logit of the image\n",
        "#   def model_logits(x):\n",
        "#     return model(x, training=False)\n",
        "\n",
        "#   # def the jecobian calculation\n",
        "#   def jacobian_fn(x):\n",
        "#     return tf.gradients(model_logits(x), x)[0]\n",
        "\n",
        "#   #get models predictions and corresponding label\n",
        "\n",
        "#   f_image = model_logits(image)\n",
        "\n",
        "#   # reshaped_f = tf.reshape(f_image, shape=(num_classes,))\n",
        "#   I = tf.argsort(tf.squeeze(f_image, axis=0), direction='DESCENDING')\n",
        "#   I = I[0:num_classes]\n",
        "#   label = I[0]\n",
        "\n",
        "#   w = tf.zeros_like(image) \n",
        "#   #tracks accumulated perturbation at each iteration\n",
        "#   r_tot = tf.zeros_like(image) \n",
        "#   #keep track of total perturbation to the input image accross all iterations\n",
        "\n",
        "#   k_i = label\n",
        "\n",
        "#   for _ in range(max_iter):\n",
        "#     image_variable = tf.Variable(image, dtype=tf.float32)\n",
        "#     with tf.GradientTape() as tape:\n",
        "#       tape.watch(image_variable)\n",
        "#       f_i = tf.squeeze(model_logits(image_variable), axis=0)\n",
        "#       # print(\"f_image\", f_image)\n",
        "#       # print(\"f_image[label]\", f_image[0][label])\n",
        "#       loss = tf.reduce_sum(tf.square(f_i - f_image[0][label]))\n",
        "    \n",
        "#     grad_f_i = tape.gradient(loss, image_variable)\n",
        "#     grad_f_i = tf.reshape(grad_f_i, shape=(-1,))\n",
        "#     grad_f_i = tf.reshape(grad_f_i, shape=(num_classes, -1))\n",
        "\n",
        "#     num_classes_mask = np.ones(num_classes)\n",
        "#     num_classes_mask[k_i] = 0 #set tge corresponding class label to zero\n",
        "#     num_classes_mask[:, np.newaxis] # shape =(10, 1)\n",
        "    \n",
        "\n",
        "\n",
        "\n",
        "\n",
        "#   return num_classes_mask[:, np.newaxis].shape, tf.reshape(tf.squeeze(grad_f_i, axis=0), shape=(num_classes, -1))\n",
        "\n",
        "    "
      ],
      "metadata": {
        "id": "J-VyAYlyj8-j"
      },
      "execution_count": 91,
      "outputs": []
    },
    {
      "cell_type": "code",
      "source": [
        "def deepfool_attack(model, image, num_classes=10, max_iter=100, epsilon=1e-6):\n",
        "  image = tf.convert_to_tensor(image)\n",
        "\n",
        "  @tf.function\n",
        "  def compute_gradients(inputs):\n",
        "      with tf.GradientTape() as tape:\n",
        "          tape.watch(inputs)\n",
        "          logits = model(inputs, training=False)\n",
        "          prediction = tf.argmax(logits, axis=1)\n",
        "          loss = tf.reduce_sum(tf.square(logits - tf.one_hot(prediction, num_classes)))\n",
        "      gradients = tape.gradient(loss, inputs)\n",
        "      return gradients\n",
        "\n",
        "  image_shape = image.shape[1:]\n",
        "  # print(\"image_shape\", image_shape)\n",
        "  image = tf.cast(image, tf.float32)\n",
        "  # print(\"faa\", image.shape)\n",
        "  perturbation = tf.zeros_like(image)\n",
        "  count = 0\n",
        "  for idx in range(max_iter):\n",
        "      image = tf.cast(image, tf.float32)\n",
        "      image_perturbed = tf.cast(image + perturbation, tf.float32)\n",
        "\n",
        "      # Compute the gradients of the loss w.r.t. the input\n",
        "      gradients = compute_gradients(image_perturbed)\n",
        "\n",
        "      # Compute the label with the current model predictions\n",
        "      current_label = tf.argmax(model(image_perturbed), axis=1).numpy()[0]\n",
        "      # print(\"current label\", current_label)\n",
        "\n",
        "      # Initialize variables for minimal perturbation search\n",
        "      min_norm = np.inf\n",
        "      min_perturbation = tf.zeros_like(image)\n",
        "      gradients = tf.reshape(gradients, shape=(image_shape))\n",
        "\n",
        "      for i in range(num_classes):\n",
        "          if i == current_label:\n",
        "              continue\n",
        "\n",
        "          # Compute the gradient direction\n",
        "          w = gradients.numpy()[0] - gradients.numpy()[i]\n",
        "          # print(\"w\", w.shape)\n",
        "\n",
        "          # Compute the minimal perturbation\n",
        "          norm = np.linalg.norm(w.flatten())\n",
        "\n",
        "          # print(\"norm\", norm)\n",
        "\n",
        "          if norm < min_norm and norm != 0:\n",
        "              min_norm = norm\n",
        "              min_perturbation = w / (norm)  # Add epsilon to avoid division by zero\n",
        "              # print(\"min pert\", min_perturbation)\n",
        "              # print(\"min pert\", min_perturbation)\n",
        "      # Update the perturbation\n",
        "      perturbation = tf.cast(perturbation + min_perturbation, tf.float32)\n",
        "      count = idx\n",
        "\n",
        "  adversarial_image = tf.clip_by_value(image + perturbation, 0.0, 1.0)\n",
        "  return adversarial_image.numpy(), count\n",
        "      \n"
      ],
      "metadata": {
        "id": "23aHEQ6OKffF"
      },
      "execution_count": 193,
      "outputs": []
    },
    {
      "cell_type": "code",
      "source": [
        "# preprocessed_image = preprocess_image(image)\n",
        "\n",
        "# Perform DeepFool attack\n",
        "adv_img, count = deepfool_attack(model, x)\n",
        "print(count)\n",
        "\n",
        "digit = tf.squeeze(adv_img, axis=0)\n",
        "orig_digit = tf.squeeze(x, axis=0)\n",
        "# print(s_adv_img.shape)\n",
        "\n",
        "plt.imshow(orig_digit, cmap='gray')\n",
        "\n",
        "print(np.argmax(model.predict(adv_img)))\n",
        "# Postprocess the perturbed image and original image if needed\n",
        "# postprocessed_perturbed_image = postprocess_image(perturbed_image)\n",
        "# postprocessed_orig_image = postprocess_image(orig_image)\n",
        "\n",
        "# Evaluate the perturbed image with the model\n",
        "# predictions = model.predict(np.array(perturbed_image))\n",
        "# predicted_class = np.argmax(predictions)"
      ],
      "metadata": {
        "colab": {
          "base_uri": "https://localhost:8080/",
          "height": 482
        },
        "id": "1MXYFbETsmvF",
        "outputId": "12040b28-ea02-430f-8a88-fd5949e8d37e"
      },
      "execution_count": 195,
      "outputs": [
        {
          "output_type": "stream",
          "name": "stdout",
          "text": [
            "99\n",
            "1/1 [==============================] - 0s 17ms/step\n",
            "1\n"
          ]
        },
        {
          "output_type": "display_data",
          "data": {
            "text/plain": [
              "<Figure size 640x480 with 1 Axes>"
            ],
            "image/png": "[encoded data removed]"
          },
          "metadata": {}
        }
      ]
    },
    {
      "cell_type": "code",
      "source": [
        "plt.imshow(digit, cmap='gray')"
      ],
      "metadata": {
        "colab": {
          "base_uri": "https://localhost:8080/",
          "height": 447
        },
        "id": "Py8sijmAVIFH",
        "outputId": "6b4b389f-c747-429a-d5f9-9098dfdaeeba"
      },
      "execution_count": 148,
      "outputs": [
        {
          "output_type": "execute_result",
          "data": {
            "text/plain": [
              "<matplotlib.image.AxesImage at 0x7f4fd4829b40>"
            ]
          },
          "metadata": {},
          "execution_count": 148
        },
        {
          "output_type": "display_data",
          "data": {
            "text/plain": [
              "<Figure size 640x480 with 1 Axes>"
            ],
            "image/png": "[encoded data removed]"
          },
          "metadata": {}
        }
      ]
    }
  ]
}