{
  "nbformat": 4,
  "nbformat_minor": 0,
  "metadata": {
    "colab": {
      "provenance": [],
      "gpuType": "T4",
      "authorship_tag": "ABX9TyNKqJExS7Fu0uaHpca9BY0t",
      "include_colab_link": true
    },
    "kernelspec": {
      "name": "python3",
      "display_name": "Python 3"
    },
    "language_info": {
      "name": "python"
    },
    "accelerator": "GPU"
  },
  "cells": [
    {
      "cell_type": "markdown",
      "metadata": {
        "id": "view-in-github",
        "colab_type": "text"
      },
      "source": [
        "<a href=\"https://colab.research.google.com/github/prysykes/adversarial_attacks/blob/main/PGD_attack.ipynb\" target=\"_parent\"><img src=\"https://colab.research.google.com/assets/colab-badge.svg\" alt=\"Open In Colab\"/></a>"
      ]
    },
    {
      "cell_type": "code",
      "execution_count": 1,
      "metadata": {
        "id": "4nohm18qCp-X"
      },
      "outputs": [],
      "source": [
        "import tensorflow as tf\n",
        "import os\n",
        "import numpy as np\n",
        "from tensorflow import keras\n",
        "from tensorflow.keras.datasets import mnist\n",
        "import matplotlib.pyplot as plt"
      ]
    },
    {
      "cell_type": "code",
      "source": [
        "pathh = 'MNISTClassifier'\n",
        "\n",
        "for parent, dirs, files in os.walk(pathh, topdown=False):\n",
        "  for file in files:\n",
        "    file_path = os.path.join(parent, file)\n",
        "    os.remove(file_path)\n",
        "  for dir in dirs:\n",
        "    dir_path = os.path.join(parent, dir)\n",
        "    os.rmdir(dir_path)\n",
        "  \n",
        "  os.rmdir('/content/MNISTClassifier')"
      ],
      "metadata": {
        "id": "5bQGEarVaxZw"
      },
      "execution_count": 2,
      "outputs": []
    },
    {
      "cell_type": "code",
      "source": [
        "(images, labels), (test_images, test_labels) = mnist.load_data()\n",
        "images = images.reshape(60000, 28, 28).astype(\"float32\")/255\n",
        "images = np.expand_dims(images, axis=3)\n",
        "test_images = test_images.reshape(10000, 28, 28).astype(\"float32\")/255\n",
        "test_images = np.expand_dims(test_images, axis=3)\n",
        "x_train, x_test = images[10000:], images[:10000]\n",
        "y_train, y_test = labels[10000:], labels[:10000]"
      ],
      "metadata": {
        "colab": {
          "base_uri": "https://localhost:8080/"
        },
        "id": "nS_13R-va1k-",
        "outputId": "9e1bf94c-6061-4cb5-9d0f-fc8c802473fc"
      },
      "execution_count": 3,
      "outputs": [
        {
          "output_type": "stream",
          "name": "stdout",
          "text": [
            "Downloading data from https://storage.googleapis.com/tensorflow/tf-keras-datasets/mnist.npz\n",
            "11490434/11490434 [==============================] - 2s 0us/step\n"
          ]
        }
      ]
    },
    {
      "cell_type": "code",
      "source": [
        "print(len(x_train))\n",
        "x_train, x_val = x_train[10000:], x_train[0:10000]\n",
        "y_train, y_val = y_train[10000:], y_train[0:10000]\n",
        "print(len(x_train))"
      ],
      "metadata": {
        "colab": {
          "base_uri": "https://localhost:8080/"
        },
        "id": "YrC6i1sK1VZ2",
        "outputId": "59a0cc32-d48c-4435-f190-04eb5629f628"
      },
      "execution_count": 4,
      "outputs": [
        {
          "output_type": "stream",
          "name": "stdout",
          "text": [
            "50000\n",
            "40000\n"
          ]
        }
      ]
    },
    {
      "cell_type": "code",
      "source": [
        "x_test[5].shape\n",
        "digit = x_test[25]\n",
        "fig = plt.figure\n",
        "plt.imshow(digit, cmap='gray')\n",
        "print(y_test[16])\n"
      ],
      "metadata": {
        "colab": {
          "base_uri": "https://localhost:8080/",
          "height": 447
        },
        "id": "W7y_pr80cx7r",
        "outputId": "43468266-01dc-42a7-d423-1f955aaa98b7"
      },
      "execution_count": 5,
      "outputs": [
        {
          "output_type": "stream",
          "name": "stdout",
          "text": [
            "2\n"
          ]
        },
        {
          "output_type": "display_data",
          "data": {
            "text/plain": [
              "<Figure size 640x480 with 1 Axes>"
            ],
            "image/png": "[encoded data removed]"
          },
          "metadata": {}
        }
      ]
    },
    {
      "cell_type": "code",
      "source": [
        "few_fives = []\n",
        "count = 0\n",
        "for index, label in enumerate(y_test):\n",
        "  if count > 4:\n",
        "    break\n",
        "  if label == 5:\n",
        "    few_fives.append((index, label))\n",
        "    count += 1\n",
        "\n",
        "print(few_fives)"
      ],
      "metadata": {
        "colab": {
          "base_uri": "https://localhost:8080/"
        },
        "id": "fdk8yeWNdB_k",
        "outputId": "e6e50f16-26a1-4278-f71b-1d197a9c3fb7"
      },
      "execution_count": 6,
      "outputs": [
        {
          "output_type": "stream",
          "name": "stdout",
          "text": [
            "[(0, 5), (11, 5), (35, 5), (47, 5), (65, 5)]\n"
          ]
        }
      ]
    },
    {
      "cell_type": "code",
      "source": [
        "class MNISTClassifier(tf.keras.Model):\n",
        "  def __init__(self):\n",
        "    super(MNISTClassifier, self).__init__()\n",
        "\n",
        "    #define the layers for feature extracture\n",
        "    self.conv1 = tf.keras.layers.Conv2D(32, kernel_size=(3, 3), activation='relu', input_shape=(28, 28, 1))\n",
        "    self.max_pool1 = tf.keras.layers.MaxPooling2D(pool_size=(2, 2))\n",
        "    self.conv2 = tf.keras.layers.Conv2D(64, kernel_size=(3, 3), activation='relu')\n",
        "    self.max_pool2 = tf.keras.layers.MaxPooling2D(pool_size=(2, 2))\n",
        "    self.flatten = tf.keras.layers.Flatten()\n",
        "    self.dropout1 = tf.keras.layers.Dropout(0.25)\n",
        "    self.dense1 = tf.keras.layers.Dense(128, activation='relu')\n",
        "    self.dropout2 = tf.keras.layers.Dropout(0.5)\n",
        "    self.dense2 = tf.keras.layers.Dense(10)\n",
        "    self.layers_list = [self.conv1, self.max_pool1, self.conv2, self.max_pool2,\n",
        "                        self.flatten, self.dropout1, self.dense1, self.dropout2, self.dense2]\n",
        "  \n",
        "  @tf.function\n",
        "  def call(self, *args, **kwargs):\n",
        "    #define forward pass\n",
        "    #output is model logits\n",
        "\n",
        "    activation_list = []\n",
        "    out = args[0]\n",
        "    for layer in self.layers_list:\n",
        "      out = layer(out)\n",
        "      activation_list.append(out)\n",
        "    \n",
        "    return out\n",
        "\n"
      ],
      "metadata": {
        "id": "Kww4YPK3onhf"
      },
      "execution_count": 7,
      "outputs": []
    },
    {
      "cell_type": "code",
      "source": [
        "model = MNISTClassifier()\n",
        "model.compile(loss=tf.keras.losses.SparseCategoricalCrossentropy(from_logits=True),\n",
        "              optimizer=tf.keras.optimizers.Adam(), \n",
        "              metrics=['accuracy'])\n",
        "\n",
        "model.fit(x_train, y_train, epochs=10, validation_data=(x_val, y_val))\n",
        "\n",
        "model.save('MNISTClassifier')\n",
        "model.summary()\n"
      ],
      "metadata": {
        "colab": {
          "base_uri": "https://localhost:8080/"
        },
        "id": "U9FBp5RXtnH3",
        "outputId": "68c16514-8725-4373-88dd-877547180744"
      },
      "execution_count": 8,
      "outputs": [
        {
          "output_type": "stream",
          "name": "stdout",
          "text": [
            "Epoch 1/10\n",
            "1250/1250 [==============================] - 18s 5ms/step - loss: 0.2719 - accuracy: 0.9160 - val_loss: 0.0713 - val_accuracy: 0.9780\n",
            "Epoch 2/10\n",
            "1250/1250 [==============================] - 6s 5ms/step - loss: 0.1000 - accuracy: 0.9708 - val_loss: 0.0482 - val_accuracy: 0.9855\n",
            "Epoch 3/10\n",
            "1250/1250 [==============================] - 6s 5ms/step - loss: 0.0761 - accuracy: 0.9777 - val_loss: 0.0388 - val_accuracy: 0.9873\n",
            "Epoch 4/10\n",
            "1250/1250 [==============================] - 6s 5ms/step - loss: 0.0613 - accuracy: 0.9814 - val_loss: 0.0362 - val_accuracy: 0.9883\n",
            "Epoch 5/10\n",
            "1250/1250 [==============================] - 5s 4ms/step - loss: 0.0526 - accuracy: 0.9841 - val_loss: 0.0338 - val_accuracy: 0.9902\n",
            "Epoch 6/10\n",
            "1250/1250 [==============================] - 7s 5ms/step - loss: 0.0453 - accuracy: 0.9862 - val_loss: 0.0289 - val_accuracy: 0.9906\n",
            "Epoch 7/10\n",
            "1250/1250 [==============================] - 7s 5ms/step - loss: 0.0422 - accuracy: 0.9872 - val_loss: 0.0294 - val_accuracy: 0.9908\n",
            "Epoch 8/10\n",
            "1250/1250 [==============================] - 10s 8ms/step - loss: 0.0362 - accuracy: 0.9885 - val_loss: 0.0291 - val_accuracy: 0.9920\n",
            "Epoch 9/10\n",
            "1250/1250 [==============================] - 8s 6ms/step - loss: 0.0332 - accuracy: 0.9894 - val_loss: 0.0315 - val_accuracy: 0.9915\n",
            "Epoch 10/10\n",
            "1250/1250 [==============================] - 7s 5ms/step - loss: 0.0317 - accuracy: 0.9896 - val_loss: 0.0267 - val_accuracy: 0.9931\n"
          ]
        },
        {
          "output_type": "stream",
          "name": "stderr",
          "text": [
            "WARNING:absl:Found untraced functions such as _jit_compiled_convolution_op, _jit_compiled_convolution_op, _update_step_xla while saving (showing 3 of 3). These functions will not be directly callable after loading.\n"
          ]
        },
        {
          "output_type": "stream",
          "name": "stdout",
          "text": [
            "Model: \"mnist_classifier\"\n",
            "_________________________________________________________________\n",
            " Layer (type)                Output Shape              Param #   \n",
            "=================================================================\n",
            " conv2d (Conv2D)             multiple                  320       \n",
            "                                                                 \n",
            " max_pooling2d (MaxPooling2D  multiple                 0         \n",
            " )                                                               \n",
            "                                                                 \n",
            " conv2d_1 (Conv2D)           multiple                  18496     \n",
            "                                                                 \n",
            " max_pooling2d_1 (MaxPooling  multiple                 0         \n",
            " 2D)                                                             \n",
            "                                                                 \n",
            " flatten (Flatten)           multiple                  0         \n",
            "                                                                 \n",
            " dropout (Dropout)           multiple                  0         \n",
            "                                                                 \n",
            " dense (Dense)               multiple                  204928    \n",
            "                                                                 \n",
            " dropout_1 (Dropout)         multiple                  0         \n",
            "                                                                 \n",
            " dense_1 (Dense)             multiple                  1290      \n",
            "                                                                 \n",
            "=================================================================\n",
            "Total params: 225,034\n",
            "Trainable params: 225,034\n",
            "Non-trainable params: 0\n",
            "_________________________________________________________________\n"
          ]
        }
      ]
    },
    {
      "cell_type": "code",
      "source": [
        "model = tf.keras.models.load_model('MNISTClassifier')"
      ],
      "metadata": {
        "id": "1CVmmQQO1-DG"
      },
      "execution_count": 9,
      "outputs": []
    },
    {
      "cell_type": "code",
      "source": [
        "fives_tupple = [(0, 5), (11, 5), (35, 5), (47, 5), (65, 5)]\n",
        "reshaped_sample_fives = []\n",
        "\n",
        "for tup in fives_tupple:\n",
        "  a_five = x_test[tup[0]]\n",
        "  a_five = np.reshape(a_five, (-1, 28, 28, 1))\n",
        "  reshaped_sample_fives.append(a_five)\n",
        "\n",
        "reshaped_sample_fives = np.array(reshaped_sample_fives)"
      ],
      "metadata": {
        "id": "yGEda2Hz2nkT"
      },
      "execution_count": 10,
      "outputs": []
    },
    {
      "cell_type": "code",
      "source": [
        "print(np.argmax(x_test[0]))"
      ],
      "metadata": {
        "colab": {
          "base_uri": "https://localhost:8080/"
        },
        "id": "cW9y5p3N6At5",
        "outputId": "692c4746-a48d-4118-f92b-a8db6dc60f07"
      },
      "execution_count": 18,
      "outputs": [
        {
          "output_type": "stream",
          "name": "stdout",
          "text": [
            "161\n"
          ]
        }
      ]
    },
    {
      "cell_type": "code",
      "source": [
        "print(reshaped_sample_fives.shape)"
      ],
      "metadata": {
        "colab": {
          "base_uri": "https://localhost:8080/"
        },
        "id": "0xDsjQNM3b0R",
        "outputId": "89051c57-74c2-4cb1-a678-73bb7c60cba3"
      },
      "execution_count": 11,
      "outputs": [
        {
          "output_type": "stream",
          "name": "stdout",
          "text": [
            "(5, 1, 28, 28, 1)\n"
          ]
        }
      ]
    },
    {
      "cell_type": "code",
      "source": [
        "plt.imshow(np.squeeze(reshaped_sample_fives[0], axis=0), cmap='gray')\n",
        "print(type(reshaped_sample_fives[0]))"
      ],
      "metadata": {
        "colab": {
          "base_uri": "https://localhost:8080/",
          "height": 447
        },
        "id": "yGXDKryF3kfT",
        "outputId": "647fc258-df7b-489e-d18c-bf25584a5c46"
      },
      "execution_count": 15,
      "outputs": [
        {
          "output_type": "stream",
          "name": "stdout",
          "text": [
            "<class 'numpy.ndarray'>\n"
          ]
        },
        {
          "output_type": "display_data",
          "data": {
            "text/plain": [
              "<Figure size 640x480 with 1 Axes>"
            ],
            "image/png": "[encoded data removed]"
          },
          "metadata": {}
        }
      ]
    },
    {
      "cell_type": "code",
      "source": [
        "predictions = []\n",
        "for sample in reshaped_sample_fives:\n",
        "  sample_prediction = model.predict(sample)\n",
        "  predictions.append(sample_prediction)\n",
        "\n",
        "print(np.argmax(predictions[0]))"
      ],
      "metadata": {
        "colab": {
          "base_uri": "https://localhost:8080/"
        },
        "id": "WSJcNqjd4N-W",
        "outputId": "93114257-4e3e-4d99-bbe7-65e8c8948776"
      },
      "execution_count": 16,
      "outputs": [
        {
          "output_type": "stream",
          "name": "stdout",
          "text": [
            "1/1 [==============================] - 0s 216ms/step\n",
            "1/1 [==============================] - 0s 37ms/step\n",
            "1/1 [==============================] - 0s 35ms/step\n",
            "1/1 [==============================] - 0s 34ms/step\n",
            "1/1 [==============================] - 0s 49ms/step\n",
            "5\n"
          ]
        }
      ]
    },
    {
      "cell_type": "code",
      "source": [
        "print(predictions[0].shape)"
      ],
      "metadata": {
        "colab": {
          "base_uri": "https://localhost:8080/"
        },
        "id": "vC8kXjvZ7XeZ",
        "outputId": "19a1dc7c-3d7b-4f16-a1e9-7d5e15efa552"
      },
      "execution_count": 22,
      "outputs": [
        {
          "output_type": "stream",
          "name": "stdout",
          "text": [
            "(1, 10)\n"
          ]
        }
      ]
    },
    {
      "cell_type": "code",
      "source": [
        "print(model(reshaped_sample_fives[0]))"
      ],
      "metadata": {
        "colab": {
          "base_uri": "https://localhost:8080/"
        },
        "id": "tQDUzVUV7aof",
        "outputId": "fab48d3a-14d4-454a-a89b-9fddeb130e68"
      },
      "execution_count": 21,
      "outputs": [
        {
          "output_type": "stream",
          "name": "stdout",
          "text": [
            "tf.Tensor(\n",
            "[[-10.694927    -9.121318   -12.539305     5.8535757  -17.870321\n",
            "   11.550816    -6.6937137   -9.457018    -5.4171495   -0.39799905]], shape=(1, 10), dtype=float32)\n"
          ]
        }
      ]
    },
    {
      "cell_type": "code",
      "source": [
        "def pgd_attack(model, x, y, epsilon, alpha, num_iter):\n",
        "  #Generate adversarial example using PGD\n",
        "\n",
        "  x_adv = tf.Variable(x, dtype=tf.float32)\n",
        "  # Initialize the adversarial example as the origianl copy of the input image\n",
        "\n",
        "  for _ in range(num_iter):\n",
        "    with tf.GradientTape() as tape:\n",
        "      tape.watch(x_adv)\n",
        "      logits = model(x_adv)\n",
        "      # print(\"shape y\", y.shape)\n",
        "      # print(\"shape logit\", logits.shape)\n",
        "      loss = tf.keras.losses.CategoricalCrossentropy()(y, logits)\n",
        "    \n",
        "    #compute gradients of the loss wrt the adversarial example\n",
        "    gradients = tape.gradient(loss, x_adv)\n",
        "\n",
        "    #Update the adversarial example by taking a small step in the direction of the gradient\n",
        "    x_adv = x_adv + alpha * tf.sign(gradients)\n",
        "\n",
        "    # Project the perturbed example back onto the epsilon-ball arround the original inout\n",
        "    perturbation = tf.clip_by_value(x_adv -x, -epsilon, epsilon)\n",
        "\n",
        "    x_adv = tf.clip_by_value(x + perturbation, 0, 1)\n",
        "\n",
        "  return x_adv\n",
        "\n"
      ],
      "metadata": {
        "id": "I1NCw7KU44zn"
      },
      "execution_count": 63,
      "outputs": []
    },
    {
      "cell_type": "code",
      "source": [
        "reshaped_sample_fives[0].shape"
      ],
      "metadata": {
        "colab": {
          "base_uri": "https://localhost:8080/"
        },
        "id": "UhcTK-puF0up",
        "outputId": "eb1be59d-556a-4399-96c4-a21f5a669e36"
      },
      "execution_count": 24,
      "outputs": [
        {
          "output_type": "execute_result",
          "data": {
            "text/plain": [
              "(1, 28, 28, 1)"
            ]
          },
          "metadata": {},
          "execution_count": 24
        }
      ]
    },
    {
      "cell_type": "code",
      "source": [
        "x = reshaped_sample_fives[0]\n",
        "print(x.shape)"
      ],
      "metadata": {
        "colab": {
          "base_uri": "https://localhost:8080/"
        },
        "id": "MXHaYD7wJkyR",
        "outputId": "f681e4ee-76ac-422b-d618-e459a9e655e7"
      },
      "execution_count": 35,
      "outputs": [
        {
          "output_type": "stream",
          "name": "stdout",
          "text": [
            "(1, 28, 28, 1)\n"
          ]
        }
      ]
    },
    {
      "cell_type": "code",
      "source": [
        "plt.imshow(np.squeeze(reshaped_sample_fives[0], axis=0), cmap='gray')"
      ],
      "metadata": {
        "colab": {
          "base_uri": "https://localhost:8080/",
          "height": 447
        },
        "id": "FIxOXUhpHNd4",
        "outputId": "06a70940-6dcb-4f88-d866-5529c1baf7ca"
      },
      "execution_count": 27,
      "outputs": [
        {
          "output_type": "execute_result",
          "data": {
            "text/plain": [
              "<matplotlib.image.AxesImage at 0x7f39d8183490>"
            ]
          },
          "metadata": {},
          "execution_count": 27
        },
        {
          "output_type": "display_data",
          "data": {
            "text/plain": [
              "<Figure size 640x480 with 1 Axes>"
            ],
            "image/png": "[encoded data removed]"
          },
          "metadata": {}
        }
      ]
    },
    {
      "cell_type": "code",
      "source": [
        "# print(y_test[0])\n",
        "# y = tf.one_hot(y_test[0], 10)\n",
        "# y = np.array(y)\n",
        "# print(y)\n",
        "# y = np.expand_dims(y, axis=0)\n",
        "# print(y.shape)"
      ],
      "metadata": {
        "id": "O7JJaT7KHJhz"
      },
      "execution_count": 64,
      "outputs": []
    },
    {
      "cell_type": "code",
      "source": [
        "y = model.predict(x)"
      ],
      "metadata": {
        "colab": {
          "base_uri": "https://localhost:8080/"
        },
        "id": "H-aR88znSFPw",
        "outputId": "11f54192-61e3-4d36-faa9-0bb8a5cc4d98"
      },
      "execution_count": 67,
      "outputs": [
        {
          "output_type": "stream",
          "name": "stdout",
          "text": [
            "1/1 [==============================] - 0s 31ms/step\n"
          ]
        }
      ]
    },
    {
      "cell_type": "code",
      "source": [
        "epsilon, alpha, num_iter = 0.15, 0.01, 100"
      ],
      "metadata": {
        "id": "57tVRw_DK_3E"
      },
      "execution_count": 101,
      "outputs": []
    },
    {
      "cell_type": "code",
      "source": [
        "adv_img = pgd_attack(model, x, y, epsilon, alpha, num_iter)"
      ],
      "metadata": {
        "id": "AY_PN6v0K4VA"
      },
      "execution_count": 102,
      "outputs": []
    },
    {
      "cell_type": "code",
      "source": [
        "plt.imshow(np.squeeze(x, axis=0), cmap='gray')"
      ],
      "metadata": {
        "colab": {
          "base_uri": "https://localhost:8080/",
          "height": 447
        },
        "id": "3mJ5JVaEQP0K",
        "outputId": "f22be5cf-a4b1-47c4-c5e2-a614744a1d75"
      },
      "execution_count": 50,
      "outputs": [
        {
          "output_type": "execute_result",
          "data": {
            "text/plain": [
              "<matplotlib.image.AxesImage at 0x7f3938ee92a0>"
            ]
          },
          "metadata": {},
          "execution_count": 50
        },
        {
          "output_type": "display_data",
          "data": {
            "text/plain": [
              "<Figure size 640x480 with 1 Axes>"
            ],
            "image/png": "[encoded data removed]"
          },
          "metadata": {}
        }
      ]
    },
    {
      "cell_type": "code",
      "source": [
        "predicte = model.predict(adv_img)\n",
        "\n",
        "print(np.argmax(predicte))"
      ],
      "metadata": {
        "colab": {
          "base_uri": "https://localhost:8080/"
        },
        "id": "ohX_1wH_Qjrd",
        "outputId": "7fff3187-9df0-42a0-bb8d-6eeaee070232"
      },
      "execution_count": 103,
      "outputs": [
        {
          "output_type": "stream",
          "name": "stdout",
          "text": [
            "1/1 [==============================] - 0s 27ms/step\n",
            "5\n"
          ]
        }
      ]
    },
    {
      "cell_type": "code",
      "source": [
        "print(adv_img.shape)\n",
        "plt.imshow(np.squeeze(adv_img, axis=0), cmap='gray')"
      ],
      "metadata": {
        "colab": {
          "base_uri": "https://localhost:8080/",
          "height": 465
        },
        "id": "5-hQSRuBP6D1",
        "outputId": "95afb818-1a01-4d7c-9d6c-6889d2d0729d"
      },
      "execution_count": 104,
      "outputs": [
        {
          "output_type": "stream",
          "name": "stdout",
          "text": [
            "(1, 28, 28, 1)\n"
          ]
        },
        {
          "output_type": "execute_result",
          "data": {
            "text/plain": [
              "<matplotlib.image.AxesImage at 0x7f3936fbe2f0>"
            ]
          },
          "metadata": {},
          "execution_count": 104
        },
        {
          "output_type": "display_data",
          "data": {
            "text/plain": [
              "<Figure size 640x480 with 1 Axes>"
            ],
            "image/png": "[encoded data removed]"
          },
          "metadata": {}
        }
      ]
    }
  ]
}