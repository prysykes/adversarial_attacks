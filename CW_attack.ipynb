{
  "nbformat": 4,
  "nbformat_minor": 0,
  "metadata": {
    "colab": {
      "provenance": [],
      "toc_visible": true,
      "gpuType": "T4",
      "authorship_tag": "ABX9TyPiOtEgzVNupQVyVQRHrE2H",
      "include_colab_link": true
    },
    "kernelspec": {
      "name": "python3",
      "display_name": "Python 3"
    },
    "language_info": {
      "name": "python"
    },
    "accelerator": "GPU"
  },
  "cells": [
    {
      "cell_type": "markdown",
      "metadata": {
        "id": "view-in-github",
        "colab_type": "text"
      },
      "source": [
        "<a href=\"https://colab.research.google.com/github/prysykes/adversarial_attacks/blob/main/CW_attack.ipynb\" target=\"_parent\"><img src=\"https://colab.research.google.com/assets/colab-badge.svg\" alt=\"Open In Colab\"/></a>"
      ]
    },
    {
      "cell_type": "code",
      "execution_count": 1,
      "metadata": {
        "id": "1Z46VnuRCyOr"
      },
      "outputs": [],
      "source": [
        "import tensorflow as tf\n",
        "import os\n",
        "import numpy as np\n",
        "from tensorflow import keras\n",
        "import matplotlib.pyplot as plt\n",
        "\n",
        "from tensorflow.keras.datasets import mnist"
      ]
    },
    {
      "cell_type": "code",
      "source": [
        "pathh = 'MNISTClassifier'\n",
        "\n",
        "for parent, dirs, files in os.walk(pathh):\n",
        "  for file in files:\n",
        "    file_path = os.path.join(parent, file)\n",
        "    os.remove(file_path)\n",
        "  for dir in dirs:\n",
        "    dir_path = os.path.join(parent, dir)\n",
        "    os.rmdir(dir_path)\n",
        "  os.rmdir('/content/MNISTClassifier')"
      ],
      "metadata": {
        "id": "HTMieAQWHoqS"
      },
      "execution_count": 2,
      "outputs": []
    },
    {
      "cell_type": "code",
      "source": [
        "(images, labels), (test_images, test_labels) = mnist.load_data()\n",
        "images = images.reshape(60000, 28, 28).astype(\"float32\")/255\n",
        "images = np.expand_dims(images, axis=3)\n",
        "test_images = test_images.reshape(10000, 28, 28).astype(\"float32\")/255\n",
        "test_images = np.expand_dims(test_images, axis=3)\n",
        "x_train, x_test = images[10000:], images[:10000]\n",
        "y_train, y_test = labels[10000:], labels[:10000]\n"
      ],
      "metadata": {
        "colab": {
          "base_uri": "https://localhost:8080/"
        },
        "id": "jZhXmLpfb4ah",
        "outputId": "e5a30bf4-98b3-4bba-bc96-b4f446d9d592"
      },
      "execution_count": 3,
      "outputs": [
        {
          "output_type": "stream",
          "name": "stdout",
          "text": [
            "Downloading data from https://storage.googleapis.com/tensorflow/tf-keras-datasets/mnist.npz\n",
            "11490434/11490434 [==============================] - 2s 0us/step\n"
          ]
        }
      ]
    },
    {
      "cell_type": "code",
      "source": [
        "print(y_train[0])"
      ],
      "metadata": {
        "colab": {
          "base_uri": "https://localhost:8080/"
        },
        "id": "fNnHKswQl8WW",
        "outputId": "5ebbb3e9-b960-4ec7-ea75-97e3cdae1024"
      },
      "execution_count": 4,
      "outputs": [
        {
          "output_type": "stream",
          "name": "stdout",
          "text": [
            "3\n"
          ]
        }
      ]
    },
    {
      "cell_type": "code",
      "source": [
        "#create validation data from train dataset\n",
        "print(len(x_train))\n",
        "x_train, x_val = x_train[10000:], x_train[:10000]\n",
        "y_train, y_val = y_train[10000:], y_train[:10000]\n",
        "print(len(x_train))"
      ],
      "metadata": {
        "colab": {
          "base_uri": "https://localhost:8080/"
        },
        "id": "4yR6Xelmd_XC",
        "outputId": "a0e1b6ec-cbec-40c3-a12e-7747aa7d6541"
      },
      "execution_count": 5,
      "outputs": [
        {
          "output_type": "stream",
          "name": "stdout",
          "text": [
            "50000\n",
            "40000\n"
          ]
        }
      ]
    },
    {
      "cell_type": "code",
      "source": [
        "x_test[5].shape\n",
        "digit = x_test[25]\n",
        "fig = plt.figure\n",
        "plt.imshow(digit, cmap='gray')\n",
        "print(y_test[16])"
      ],
      "metadata": {
        "colab": {
          "base_uri": "https://localhost:8080/",
          "height": 447
        },
        "id": "UQuaHeyleksW",
        "outputId": "c6127680-78e1-4b8d-af9b-28f7466e6de1"
      },
      "execution_count": 6,
      "outputs": [
        {
          "output_type": "stream",
          "name": "stdout",
          "text": [
            "2\n"
          ]
        },
        {
          "output_type": "display_data",
          "data": {
            "text/plain": [
              "<Figure size 640x480 with 1 Axes>"
            ],
            "image/png": "[encoded data removed]"
          },
          "metadata": {}
        }
      ]
    },
    {
      "cell_type": "code",
      "source": [
        "few_fives = []\n",
        "count = 0\n",
        "for index, label in enumerate(y_test):\n",
        "  if count > 4:\n",
        "    break\n",
        "  if label == 5:\n",
        "    few_fives.append((index, label))\n",
        "    count +=1\n",
        "print(few_fives)"
      ],
      "metadata": {
        "colab": {
          "base_uri": "https://localhost:8080/"
        },
        "id": "n1XmhRY4e0gu",
        "outputId": "194217d6-887f-4c38-cbfc-88aa9bb8e963"
      },
      "execution_count": 9,
      "outputs": [
        {
          "output_type": "stream",
          "name": "stdout",
          "text": [
            "[(0, 5), (11, 5), (35, 5), (47, 5), (65, 5)]\n"
          ]
        }
      ]
    },
    {
      "cell_type": "code",
      "source": [
        "class MNISTClassifier(tf.keras.Model):\n",
        "  def __init__(self):\n",
        "    super(MNISTClassifier, self).__init__()\n",
        "\n",
        "    #define the layers for feature extraction\n",
        "    self.conv1 = tf.keras.layers.Conv2D(32, kernel_size=(3, 3), activation='relu', input_shape=(28, 28, 1))\n",
        "    self.max_pool1 = tf.keras.layers.MaxPooling2D(pool_size=(2, 2))\n",
        "    self.conv2 = tf.keras.layers.Conv2D(64, kernel_size=(3, 3), activation='relu')\n",
        "    self.max_pool2 = tf.keras.layers.MaxPooling2D(pool_size=(2, 2))\n",
        "    self.flatten = tf.keras.layers.Flatten()\n",
        "    self.dropout1 = tf.keras.layers.Dropout(0.25)\n",
        "    self.dense1 = tf.keras.layers.Dense(128, activation='relu')\n",
        "    self.dropout2 = tf.keras.layers.Dropout(0.5)\n",
        "    self.dense2 = tf.keras.layers.Dense(10)\n",
        "    self.layers_list = [self.conv1, self.max_pool1, self.conv2, self.max_pool2,\n",
        "                        self.flatten, self.dropout1, self.dense1, self.dropout2, self.dense2]\n",
        "\n",
        "  def call(self, *args, **kwargs):\n",
        "    #define forward pass\n",
        "    activation_list = []\n",
        "    out = args[0]\n",
        "    for layer in self.layers_list:\n",
        "      out = layer(out)\n",
        "      activation_list.append(out)\n",
        "\n",
        "    return out"
      ],
      "metadata": {
        "id": "XPGHvJJGfM2n"
      },
      "execution_count": 10,
      "outputs": []
    },
    {
      "cell_type": "code",
      "source": [
        "model = MNISTClassifier()\n",
        "model.compile(loss=tf.keras.losses.SparseCategoricalCrossentropy(from_logits=True),\n",
        "              optimizer=tf.keras.optimizers.Adam(),\n",
        "              metrics=['accuracy'])\n",
        "model.fit(x_train, y_train, epochs=10, validation_data=(x_val, y_val))\n",
        "model.save('MNISTClassifier')\n",
        "model.summary()"
      ],
      "metadata": {
        "colab": {
          "base_uri": "https://localhost:8080/"
        },
        "id": "rNi33s0eguBH",
        "outputId": "4f6d4a42-69d5-4e59-a9d3-0310dffa2d1a"
      },
      "execution_count": 11,
      "outputs": [
        {
          "output_type": "stream",
          "name": "stdout",
          "text": [
            "Epoch 1/10\n",
            "1250/1250 [==============================] - 17s 5ms/step - loss: 0.2693 - accuracy: 0.9161 - val_loss: 0.0742 - val_accuracy: 0.9773\n",
            "Epoch 2/10\n",
            "1250/1250 [==============================] - 6s 5ms/step - loss: 0.1010 - accuracy: 0.9701 - val_loss: 0.0467 - val_accuracy: 0.9853\n",
            "Epoch 3/10\n",
            "1250/1250 [==============================] - 6s 5ms/step - loss: 0.0784 - accuracy: 0.9761 - val_loss: 0.0424 - val_accuracy: 0.9869\n",
            "Epoch 4/10\n",
            "1250/1250 [==============================] - 6s 5ms/step - loss: 0.0640 - accuracy: 0.9795 - val_loss: 0.0333 - val_accuracy: 0.9896\n",
            "Epoch 5/10\n",
            "1250/1250 [==============================] - 6s 5ms/step - loss: 0.0576 - accuracy: 0.9822 - val_loss: 0.0376 - val_accuracy: 0.9885\n",
            "Epoch 6/10\n",
            "1250/1250 [==============================] - 5s 4ms/step - loss: 0.0480 - accuracy: 0.9849 - val_loss: 0.0295 - val_accuracy: 0.9917\n",
            "Epoch 7/10\n",
            "1250/1250 [==============================] - 7s 5ms/step - loss: 0.0457 - accuracy: 0.9856 - val_loss: 0.0253 - val_accuracy: 0.9927\n",
            "Epoch 8/10\n",
            "1250/1250 [==============================] - 5s 4ms/step - loss: 0.0406 - accuracy: 0.9869 - val_loss: 0.0238 - val_accuracy: 0.9929\n",
            "Epoch 9/10\n",
            "1250/1250 [==============================] - 6s 5ms/step - loss: 0.0370 - accuracy: 0.9880 - val_loss: 0.0257 - val_accuracy: 0.9933\n",
            "Epoch 10/10\n",
            "1250/1250 [==============================] - 7s 6ms/step - loss: 0.0339 - accuracy: 0.9888 - val_loss: 0.0282 - val_accuracy: 0.9922\n"
          ]
        },
        {
          "output_type": "stream",
          "name": "stderr",
          "text": [
            "WARNING:absl:Found untraced functions such as _jit_compiled_convolution_op, _jit_compiled_convolution_op, _update_step_xla while saving (showing 3 of 3). These functions will not be directly callable after loading.\n"
          ]
        },
        {
          "output_type": "stream",
          "name": "stdout",
          "text": [
            "Model: \"mnist_classifier\"\n",
            "_________________________________________________________________\n",
            " Layer (type)                Output Shape              Param #   \n",
            "=================================================================\n",
            " conv2d (Conv2D)             multiple                  320       \n",
            "                                                                 \n",
            " max_pooling2d (MaxPooling2D  multiple                 0         \n",
            " )                                                               \n",
            "                                                                 \n",
            " conv2d_1 (Conv2D)           multiple                  18496     \n",
            "                                                                 \n",
            " max_pooling2d_1 (MaxPooling  multiple                 0         \n",
            " 2D)                                                             \n",
            "                                                                 \n",
            " flatten (Flatten)           multiple                  0         \n",
            "                                                                 \n",
            " dropout (Dropout)           multiple                  0         \n",
            "                                                                 \n",
            " dense (Dense)               multiple                  204928    \n",
            "                                                                 \n",
            " dropout_1 (Dropout)         multiple                  0         \n",
            "                                                                 \n",
            " dense_1 (Dense)             multiple                  1290      \n",
            "                                                                 \n",
            "=================================================================\n",
            "Total params: 225,034\n",
            "Trainable params: 225,034\n",
            "Non-trainable params: 0\n",
            "_________________________________________________________________\n"
          ]
        }
      ]
    },
    {
      "cell_type": "code",
      "source": [
        "model = tf.keras.models.load_model('MNISTClassifier')"
      ],
      "metadata": {
        "id": "CAOdiPa_jN6_"
      },
      "execution_count": 15,
      "outputs": []
    },
    {
      "cell_type": "code",
      "source": [
        "fives_tupple = [(0, 5), (11, 5), (35, 5), (47, 5), (65, 5)]\n",
        "reshaped_sample_fives = []\n",
        "\n",
        "for tup in fives_tupple:\n",
        "  a_five = x_test[tup[0]]\n",
        "  a_five = np.reshape(a_five, (-1, 28, 28, 1))\n",
        "  reshaped_sample_fives.append(a_five)\n",
        "\n",
        "reshaped_sample_fives = np.array(reshaped_sample_fives)"
      ],
      "metadata": {
        "id": "wwtaZowojb5_"
      },
      "execution_count": 16,
      "outputs": []
    },
    {
      "cell_type": "code",
      "source": [
        "# print((x_test[0][:10]))"
      ],
      "metadata": {
        "colab": {
          "base_uri": "https://localhost:8080/"
        },
        "id": "N1uc05VNkKUG",
        "outputId": "4a77170b-807a-4ae2-d7da-542d27a1199b"
      },
      "execution_count": 27,
      "outputs": [
        {
          "output_type": "stream",
          "name": "stdout",
          "text": [
            "[[[0.        ]\n",
            "  [0.        ]\n",
            "  [0.        ]\n",
            "  [0.        ]\n",
            "  [0.        ]\n",
            "  [0.        ]\n",
            "  [0.        ]\n",
            "  [0.        ]\n",
            "  [0.        ]\n",
            "  [0.        ]\n",
            "  [0.        ]\n",
            "  [0.        ]\n",
            "  [0.        ]\n",
            "  [0.        ]\n",
            "  [0.        ]\n",
            "  [0.        ]\n",
            "  [0.        ]\n",
            "  [0.        ]\n",
            "  [0.        ]\n",
            "  [0.        ]\n",
            "  [0.        ]\n",
            "  [0.        ]\n",
            "  [0.        ]\n",
            "  [0.        ]\n",
            "  [0.        ]\n",
            "  [0.        ]\n",
            "  [0.        ]\n",
            "  [0.        ]]\n",
            "\n",
            " [[0.        ]\n",
            "  [0.        ]\n",
            "  [0.        ]\n",
            "  [0.        ]\n",
            "  [0.        ]\n",
            "  [0.        ]\n",
            "  [0.        ]\n",
            "  [0.        ]\n",
            "  [0.        ]\n",
            "  [0.        ]\n",
            "  [0.        ]\n",
            "  [0.        ]\n",
            "  [0.        ]\n",
            "  [0.        ]\n",
            "  [0.        ]\n",
            "  [0.        ]\n",
            "  [0.        ]\n",
            "  [0.        ]\n",
            "  [0.        ]\n",
            "  [0.        ]\n",
            "  [0.        ]\n",
            "  [0.        ]\n",
            "  [0.        ]\n",
            "  [0.        ]\n",
            "  [0.        ]\n",
            "  [0.        ]\n",
            "  [0.        ]\n",
            "  [0.        ]]\n",
            "\n",
            " [[0.        ]\n",
            "  [0.        ]\n",
            "  [0.        ]\n",
            "  [0.        ]\n",
            "  [0.        ]\n",
            "  [0.        ]\n",
            "  [0.        ]\n",
            "  [0.        ]\n",
            "  [0.        ]\n",
            "  [0.        ]\n",
            "  [0.        ]\n",
            "  [0.        ]\n",
            "  [0.        ]\n",
            "  [0.        ]\n",
            "  [0.        ]\n",
            "  [0.        ]\n",
            "  [0.        ]\n",
            "  [0.        ]\n",
            "  [0.        ]\n",
            "  [0.        ]\n",
            "  [0.        ]\n",
            "  [0.        ]\n",
            "  [0.        ]\n",
            "  [0.        ]\n",
            "  [0.        ]\n",
            "  [0.        ]\n",
            "  [0.        ]\n",
            "  [0.        ]]\n",
            "\n",
            " [[0.        ]\n",
            "  [0.        ]\n",
            "  [0.        ]\n",
            "  [0.        ]\n",
            "  [0.        ]\n",
            "  [0.        ]\n",
            "  [0.        ]\n",
            "  [0.        ]\n",
            "  [0.        ]\n",
            "  [0.        ]\n",
            "  [0.        ]\n",
            "  [0.        ]\n",
            "  [0.        ]\n",
            "  [0.        ]\n",
            "  [0.        ]\n",
            "  [0.        ]\n",
            "  [0.        ]\n",
            "  [0.        ]\n",
            "  [0.        ]\n",
            "  [0.        ]\n",
            "  [0.        ]\n",
            "  [0.        ]\n",
            "  [0.        ]\n",
            "  [0.        ]\n",
            "  [0.        ]\n",
            "  [0.        ]\n",
            "  [0.        ]\n",
            "  [0.        ]]\n",
            "\n",
            " [[0.        ]\n",
            "  [0.        ]\n",
            "  [0.        ]\n",
            "  [0.        ]\n",
            "  [0.        ]\n",
            "  [0.        ]\n",
            "  [0.        ]\n",
            "  [0.        ]\n",
            "  [0.        ]\n",
            "  [0.        ]\n",
            "  [0.        ]\n",
            "  [0.        ]\n",
            "  [0.        ]\n",
            "  [0.        ]\n",
            "  [0.        ]\n",
            "  [0.        ]\n",
            "  [0.        ]\n",
            "  [0.        ]\n",
            "  [0.        ]\n",
            "  [0.        ]\n",
            "  [0.        ]\n",
            "  [0.        ]\n",
            "  [0.        ]\n",
            "  [0.        ]\n",
            "  [0.        ]\n",
            "  [0.        ]\n",
            "  [0.        ]\n",
            "  [0.        ]]\n",
            "\n",
            " [[0.        ]\n",
            "  [0.        ]\n",
            "  [0.        ]\n",
            "  [0.        ]\n",
            "  [0.        ]\n",
            "  [0.        ]\n",
            "  [0.        ]\n",
            "  [0.        ]\n",
            "  [0.        ]\n",
            "  [0.        ]\n",
            "  [0.        ]\n",
            "  [0.        ]\n",
            "  [0.01176471]\n",
            "  [0.07058824]\n",
            "  [0.07058824]\n",
            "  [0.07058824]\n",
            "  [0.49411765]\n",
            "  [0.53333336]\n",
            "  [0.6862745 ]\n",
            "  [0.10196079]\n",
            "  [0.6509804 ]\n",
            "  [1.        ]\n",
            "  [0.96862745]\n",
            "  [0.49803922]\n",
            "  [0.        ]\n",
            "  [0.        ]\n",
            "  [0.        ]\n",
            "  [0.        ]]\n",
            "\n",
            " [[0.        ]\n",
            "  [0.        ]\n",
            "  [0.        ]\n",
            "  [0.        ]\n",
            "  [0.        ]\n",
            "  [0.        ]\n",
            "  [0.        ]\n",
            "  [0.        ]\n",
            "  [0.11764706]\n",
            "  [0.14117648]\n",
            "  [0.36862746]\n",
            "  [0.6039216 ]\n",
            "  [0.6666667 ]\n",
            "  [0.99215686]\n",
            "  [0.99215686]\n",
            "  [0.99215686]\n",
            "  [0.99215686]\n",
            "  [0.99215686]\n",
            "  [0.88235295]\n",
            "  [0.6745098 ]\n",
            "  [0.99215686]\n",
            "  [0.9490196 ]\n",
            "  [0.7647059 ]\n",
            "  [0.2509804 ]\n",
            "  [0.        ]\n",
            "  [0.        ]\n",
            "  [0.        ]\n",
            "  [0.        ]]\n",
            "\n",
            " [[0.        ]\n",
            "  [0.        ]\n",
            "  [0.        ]\n",
            "  [0.        ]\n",
            "  [0.        ]\n",
            "  [0.        ]\n",
            "  [0.        ]\n",
            "  [0.19215687]\n",
            "  [0.93333334]\n",
            "  [0.99215686]\n",
            "  [0.99215686]\n",
            "  [0.99215686]\n",
            "  [0.99215686]\n",
            "  [0.99215686]\n",
            "  [0.99215686]\n",
            "  [0.99215686]\n",
            "  [0.99215686]\n",
            "  [0.9843137 ]\n",
            "  [0.3647059 ]\n",
            "  [0.32156864]\n",
            "  [0.32156864]\n",
            "  [0.21960784]\n",
            "  [0.15294118]\n",
            "  [0.        ]\n",
            "  [0.        ]\n",
            "  [0.        ]\n",
            "  [0.        ]\n",
            "  [0.        ]]\n",
            "\n",
            " [[0.        ]\n",
            "  [0.        ]\n",
            "  [0.        ]\n",
            "  [0.        ]\n",
            "  [0.        ]\n",
            "  [0.        ]\n",
            "  [0.        ]\n",
            "  [0.07058824]\n",
            "  [0.85882354]\n",
            "  [0.99215686]\n",
            "  [0.99215686]\n",
            "  [0.99215686]\n",
            "  [0.99215686]\n",
            "  [0.99215686]\n",
            "  [0.7764706 ]\n",
            "  [0.7137255 ]\n",
            "  [0.96862745]\n",
            "  [0.94509804]\n",
            "  [0.        ]\n",
            "  [0.        ]\n",
            "  [0.        ]\n",
            "  [0.        ]\n",
            "  [0.        ]\n",
            "  [0.        ]\n",
            "  [0.        ]\n",
            "  [0.        ]\n",
            "  [0.        ]\n",
            "  [0.        ]]\n",
            "\n",
            " [[0.        ]\n",
            "  [0.        ]\n",
            "  [0.        ]\n",
            "  [0.        ]\n",
            "  [0.        ]\n",
            "  [0.        ]\n",
            "  [0.        ]\n",
            "  [0.        ]\n",
            "  [0.3137255 ]\n",
            "  [0.6117647 ]\n",
            "  [0.41960785]\n",
            "  [0.99215686]\n",
            "  [0.99215686]\n",
            "  [0.8039216 ]\n",
            "  [0.04313726]\n",
            "  [0.        ]\n",
            "  [0.16862746]\n",
            "  [0.6039216 ]\n",
            "  [0.        ]\n",
            "  [0.        ]\n",
            "  [0.        ]\n",
            "  [0.        ]\n",
            "  [0.        ]\n",
            "  [0.        ]\n",
            "  [0.        ]\n",
            "  [0.        ]\n",
            "  [0.        ]\n",
            "  [0.        ]]]\n"
          ]
        }
      ]
    },
    {
      "cell_type": "code",
      "source": [
        "plt.imshow(np.squeeze(reshaped_sample_fives[0], axis=0), cmap='gray')\n",
        "print(type(reshaped_sample_fives[0]))"
      ],
      "metadata": {
        "colab": {
          "base_uri": "https://localhost:8080/",
          "height": 447
        },
        "id": "HoogsyY9k8gH",
        "outputId": "aa941076-848f-48b1-ad22-8c32d65766e9"
      },
      "execution_count": 17,
      "outputs": [
        {
          "output_type": "stream",
          "name": "stdout",
          "text": [
            "<class 'numpy.ndarray'>\n"
          ]
        },
        {
          "output_type": "display_data",
          "data": {
            "text/plain": [
              "<Figure size 640x480 with 1 Axes>"
            ],
            "image/png": "[encoded data removed]"
          },
          "metadata": {}
        }
      ]
    },
    {
      "cell_type": "code",
      "source": [
        "predictions = []\n",
        "for sample in reshaped_sample_fives:\n",
        "  sample_prediction = model.predict(sample)\n",
        "  predictions.append(sample_prediction)\n",
        "\n",
        "print(np.argmax(predictions[0]))"
      ],
      "metadata": {
        "colab": {
          "base_uri": "https://localhost:8080/"
        },
        "id": "6_qYsjv6lXeR",
        "outputId": "350a0b80-f26d-4424-edff-be12efb6ffff"
      },
      "execution_count": 18,
      "outputs": [
        {
          "output_type": "stream",
          "name": "stdout",
          "text": [
            "1/1 [==============================] - 0s 149ms/step\n",
            "1/1 [==============================] - 0s 20ms/step\n",
            "1/1 [==============================] - 0s 19ms/step\n",
            "1/1 [==============================] - 0s 21ms/step\n",
            "1/1 [==============================] - 0s 21ms/step\n",
            "5\n"
          ]
        }
      ]
    },
    {
      "cell_type": "code",
      "source": [
        "print(model(reshaped_sample_fives[0])) #outputs the logits"
      ],
      "metadata": {
        "colab": {
          "base_uri": "https://localhost:8080/"
        },
        "id": "EXgd96m3l5dG",
        "outputId": "b96f879f-8de8-49b2-a5e0-f296e5bf03ba"
      },
      "execution_count": 19,
      "outputs": [
        {
          "output_type": "stream",
          "name": "stdout",
          "text": [
            "tf.Tensor(\n",
            "[[-18.448668   -11.256746   -18.311634    10.375411   -16.107586\n",
            "   15.200964    -8.535495   -12.187293    -3.2306068   -0.40055728]], shape=(1, 10), dtype=float32)\n"
          ]
        }
      ]
    },
    {
      "cell_type": "code",
      "source": [
        "def cw_attack(model, image, target_class, max_iterations=12, confidence=0.0, learning_rate=0.01):\n",
        "  #cw_attack loss function\n",
        "  def cw_loss(logits, target_class, confidence):\n",
        "    target_one_hot = tf.one_hot(target_class, logits.shape[1])\n",
        "    correct_logits = tf.reduce_sum(target_one_hot * logits, axis=1)\n",
        "    other_logits = tf.reduce_max((1-target_one_hot) * logits - target_one_hot * 10000, axis=1)\n",
        "    loss = tf.maximum(0.0, other_logits - correct_logits + confidence)\n",
        "    return tf.reduce_mean(loss)\n",
        "\n",
        "  image_shape = image.shape\n",
        "  image = tf.convert_to_tensor(image)\n",
        "  image = tf.expand_dims(image, axis=0)\n",
        "\n",
        "  target_class = tf.convert_to_tensor(target_class)\n",
        "\n",
        "  image_var = tf.Variable(image, dtype=tf.float32)\n",
        "\n",
        "  optimizer = tf.keras.optimizers.Adam(learning_rate=learning_rate)\n",
        "\n",
        "  for iteration in range(max_iterations):\n",
        "    with tf.GradientTape() as tape:\n",
        "      logits = model(image_var)\n",
        "      loss = cw_loss(logits, target_class, confidence)\n",
        "\n",
        "    gradients = tape.gradient(loss, image_var)\n",
        "    optimizer.apply_gradients([(gradients, image_var)])\n",
        "\n",
        "    image_var.assign(tf.clip_by_value(image_var, 0.0, 0.1))\n",
        "\n",
        "    if iteration % 100 == 0:\n",
        "      print(f\"iteration: {iteration} \\t loss: {loss.numpy()}\")\n",
        "\n",
        "  adversarial_image = image_var.numpy().reshape(image_shape)\n",
        "\n",
        "  return adversarial_image\n"
      ],
      "metadata": {
        "id": "mZBHDhU5mSkF"
      },
      "execution_count": 64,
      "outputs": []
    },
    {
      "cell_type": "code",
      "source": [
        "x = reshaped_sample_fives[0]\n",
        "print(x.shape)"
      ],
      "metadata": {
        "colab": {
          "base_uri": "https://localhost:8080/"
        },
        "id": "4h0vFR3DJWie",
        "outputId": "af815d1e-15fe-48d3-bb4e-5884955330f6"
      },
      "execution_count": 46,
      "outputs": [
        {
          "output_type": "stream",
          "name": "stdout",
          "text": [
            "(1, 28, 28, 1)\n"
          ]
        }
      ]
    },
    {
      "cell_type": "code",
      "source": [
        "predict_x = model.predict(x)\n",
        "print(predict_x)\n",
        "print(np.argmax(predict_x))"
      ],
      "metadata": {
        "colab": {
          "base_uri": "https://localhost:8080/"
        },
        "id": "BK9xgItiJ1sd",
        "outputId": "6ac4c770-1bdf-440d-d19f-5f9d42a93319"
      },
      "execution_count": 59,
      "outputs": [
        {
          "output_type": "stream",
          "name": "stdout",
          "text": [
            "1/1 [==============================] - 0s 18ms/step\n",
            "[[-18.448668   -11.256746   -18.311634    10.375411   -16.107586\n",
            "   15.200964    -8.535495   -12.187293    -3.2306068   -0.40055728]]\n",
            "5\n"
          ]
        }
      ]
    },
    {
      "cell_type": "code",
      "source": [
        "ori_image = tf.squeeze(x, axis=0)\n",
        "print(ori_image.shape)"
      ],
      "metadata": {
        "colab": {
          "base_uri": "https://localhost:8080/"
        },
        "id": "ULJx3cM5JaMO",
        "outputId": "0b3183be-ccb4-4a45-d196-ae1a3bf9c3d9"
      },
      "execution_count": 48,
      "outputs": [
        {
          "output_type": "stream",
          "name": "stdout",
          "text": [
            "(28, 28, 1)\n"
          ]
        }
      ]
    },
    {
      "cell_type": "code",
      "source": [
        "plt.imshow(ori_image, cmap='gray')"
      ],
      "metadata": {
        "colab": {
          "base_uri": "https://localhost:8080/",
          "height": 447
        },
        "id": "h13zIyPUK4Nt",
        "outputId": "62b19b7f-425c-43ee-eb18-03cc2cde562a"
      },
      "execution_count": 60,
      "outputs": [
        {
          "output_type": "execute_result",
          "data": {
            "text/plain": [
              "<matplotlib.image.AxesImage at 0x7fab82d3ab90>"
            ]
          },
          "metadata": {},
          "execution_count": 60
        },
        {
          "output_type": "display_data",
          "data": {
            "text/plain": [
              "<Figure size 640x480 with 1 Axes>"
            ],
            "image/png": "[encoded data removed]"
          },
          "metadata": {}
        }
      ]
    },
    {
      "cell_type": "code",
      "source": [
        "adv_image = cw_attack(model, ori_image, 2)"
      ],
      "metadata": {
        "colab": {
          "base_uri": "https://localhost:8080/"
        },
        "id": "5NyABMbpJ0Wm",
        "outputId": "c3e43cf3-4a9a-4323-aec5-95f5fe1db776"
      },
      "execution_count": 65,
      "outputs": [
        {
          "output_type": "stream",
          "name": "stdout",
          "text": [
            "iteration: 0 \t loss: 33.512596130371094\n"
          ]
        }
      ]
    },
    {
      "cell_type": "code",
      "source": [
        "print(adv_image.shape)"
      ],
      "metadata": {
        "colab": {
          "base_uri": "https://localhost:8080/"
        },
        "id": "GJM9rCesKYEv",
        "outputId": "c42315b7-2769-4a4a-bb59-2ee8fd0d3906"
      },
      "execution_count": 51,
      "outputs": [
        {
          "output_type": "stream",
          "name": "stdout",
          "text": [
            "(28, 28, 1)\n"
          ]
        }
      ]
    },
    {
      "cell_type": "code",
      "source": [
        "plt.imshow(adv_image, cmap='gray')"
      ],
      "metadata": {
        "colab": {
          "base_uri": "https://localhost:8080/",
          "height": 447
        },
        "id": "G_-trme6Kehc",
        "outputId": "7f6a1a5b-d972-42e7-d35a-884d20a5d2fb"
      },
      "execution_count": 66,
      "outputs": [
        {
          "output_type": "execute_result",
          "data": {
            "text/plain": [
              "<matplotlib.image.AxesImage at 0x7fab82ca5720>"
            ]
          },
          "metadata": {},
          "execution_count": 66
        },
        {
          "output_type": "display_data",
          "data": {
            "text/plain": [
              "<Figure size 640x480 with 1 Axes>"
            ],
            "image/png": "[encoded data removed]"
          },
          "metadata": {}
        }
      ]
    },
    {
      "cell_type": "code",
      "source": [
        "print(np.argmax(model.predict(np.expand_dims(adv_image, axis=0))))"
      ],
      "metadata": {
        "colab": {
          "base_uri": "https://localhost:8080/"
        },
        "id": "16OiosfVK-m9",
        "outputId": "2697a241-4a42-44a7-9ef6-067a99360318"
      },
      "execution_count": 67,
      "outputs": [
        {
          "output_type": "stream",
          "name": "stdout",
          "text": [
            "1/1 [==============================] - 0s 20ms/step\n",
            "1\n"
          ]
        }
      ]
    }
  ]
}