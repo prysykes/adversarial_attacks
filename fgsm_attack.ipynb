{
  "nbformat": 4,
  "nbformat_minor": 0,
  "metadata": {
    "colab": {
      "provenance": [],
      "gpuType": "T4"
    },
    "kernelspec": {
      "name": "python3",
      "display_name": "Python 3"
    },
    "language_info": {
      "name": "python"
    },
    "accelerator": "GPU",
    "gpuClass": "standard"
  },
  "cells": [
    {
      "cell_type": "markdown",
      "source": [],
      "metadata": {
        "id": "z5ln79VDmASD"
      }
    },
    {
      "cell_type": "code",
      "source": [],
      "metadata": {
        "id": "wVbTOi_HmCm1"
      },
      "execution_count": null,
      "outputs": []
    },
    {
      "cell_type": "markdown",
      "source": [],
      "metadata": {
        "id": "Qx4VjIBhmHL0"
      }
    },
    {
      "cell_type": "markdown",
      "source": [],
      "metadata": {
        "id": "j0PAhPLAmGpz"
      }
    },
    {
      "cell_type": "code",
      "execution_count": null,
      "metadata": {
        "id": "Y15rXRRkYRXk"
      },
      "outputs": [],
      "source": [
        "import tensorflow as tf\n",
        "import os\n",
        "import numpy as np\n",
        "from tensorflow import keras\n",
        "from tensorflow.keras.datasets import mnist\n",
        "import matplotlib.pyplot as plt"
      ]
    },
    {
      "cell_type": "code",
      "source": [
        "pathh = 'MNISTClassifier'\n",
        "\n",
        "for parent, dirs, files in os.walk(pathh, topdown=False):\n",
        "  for file in files:\n",
        "    file_path = os.path.join(parent, file)\n",
        "    os.remove(file_path)\n",
        "  for dir in dirs:\n",
        "    dir_path = os.path.join(parent, dir)\n",
        "    os.rmdir(dir_path)\n",
        "  \n",
        "  os.rmdir('/content/MNISTClassifier')"
      ],
      "metadata": {
        "id": "zvPcU7Wpe7Vj"
      },
      "execution_count": null,
      "outputs": []
    },
    {
      "cell_type": "code",
      "source": [
        "(images, labels), (test_images, test_labels) = mnist.load_data() \n",
        "images = images.reshape((60000, 28, 28)).astype(\"float32\") / 255\n",
        "images = np.expand_dims(images, axis=3)\n",
        "test_images = test_images.reshape((10000, 28, 28)).astype(\"float32\") / 255\n",
        "test_images = np.expand_dims(test_images, axis=3)\n",
        "x_train, x_test = images[10000:], images[:10000]\n",
        "y_train, y_test = labels[10000:], labels[:10000]"
      ],
      "metadata": {
        "id": "2KVm_XG-YcR2"
      },
      "execution_count": null,
      "outputs": []
    },
    {
      "cell_type": "markdown",
      "source": [
        "Inspect data"
      ],
      "metadata": {
        "id": "tsU6eJl1AMOe"
      }
    },
    {
      "cell_type": "code",
      "source": [
        "x_test[5].shape\n",
        "digit = x_test[25]\n",
        "fig = plt.figure\n",
        "plt.imshow(digit, cmap='gray')\n",
        "print(y_test[16])\n",
        "\n",
        "# number 2 are found in these location: [(5, 2), (16, 2), (25, 2), (28, 2), (76, 2)]"
      ],
      "metadata": {
        "colab": {
          "base_uri": "https://localhost:8080/",
          "height": 447
        },
        "id": "DP7c3-__jH5O",
        "outputId": "1c8cb03a-a7b7-4b23-f72f-0d148520a913"
      },
      "execution_count": null,
      "outputs": [
        {
          "output_type": "stream",
          "name": "stdout",
          "text": [
            "2\n"
          ]
        },
        {
          "output_type": "display_data",
          "data": {
            "text/plain": [
              "<Figure size 640x480 with 1 Axes>"
            ],
            "image/png": "[encoded data removed]"
          },
          "metadata": {}
        }
      ]
    },
    {
      "cell_type": "code",
      "source": [
        "few_twos = []\n",
        "count = 0\n",
        "for index, label in enumerate(y_test):\n",
        "  if count > 4:\n",
        "    break\n",
        "  if label == 5:\n",
        "    few_twos.append((index, label))\n",
        "    count += 1\n",
        "\n",
        "print(few_twos)"
      ],
      "metadata": {
        "colab": {
          "base_uri": "https://localhost:8080/"
        },
        "id": "BcvFUiv4AY6G",
        "outputId": "d4e0cfae-cb72-4ee8-d215-a73faa265cd5"
      },
      "execution_count": null,
      "outputs": [
        {
          "output_type": "stream",
          "name": "stdout",
          "text": [
            "[(0, 5), (11, 5), (35, 5), (47, 5), (65, 5)]\n"
          ]
        }
      ]
    },
    {
      "cell_type": "code",
      "source": [
        "print(few_twos)"
      ],
      "metadata": {
        "colab": {
          "base_uri": "https://localhost:8080/"
        },
        "id": "EqQto2xcBJnJ",
        "outputId": "bdc7e5bc-b502-4a0d-ed83-38ea82735047"
      },
      "execution_count": null,
      "outputs": [
        {
          "output_type": "stream",
          "name": "stdout",
          "text": [
            "[(0, 5), (11, 5), (35, 5), (47, 5), (65, 5)]\n"
          ]
        }
      ]
    },
    {
      "cell_type": "code",
      "source": [
        "class MNISTClassifier(tf.keras.Model):\n",
        "    def __init__(self):\n",
        "        super(MNISTClassifier, self).__init__()\n",
        "        \n",
        "        # Define the layers\n",
        "        #for feature extration\n",
        "        self.conv1 = tf.keras.layers.Conv2D(32, kernel_size=(3, 3), activation='relu', input_shape=(28, 28, 1))\n",
        "        self.max_pool1 = tf.keras.layers.MaxPooling2D(pool_size=(2, 2))\n",
        "        self.conv2 = tf.keras.layers.Conv2D(64, kernel_size=(3, 3), activation='relu')\n",
        "        self.max_pool2 = tf.keras.layers.MaxPooling2D(pool_size=(2, 2))\n",
        "        self.flatten = tf.keras.layers.Flatten()\n",
        "        self.dropout1 = tf.keras.layers.Dropout(0.25)\n",
        "        self.dense1 = tf.keras.layers.Dense(128, activation='relu')\n",
        "        self.dropout2 = tf.keras.layers.Dropout(0.5)\n",
        "        self.dense2 = tf.keras.layers.Dense(10)\n",
        "        self.layers_list = [self.conv1, self.max_pool1, self.conv2, self.max_pool2,\n",
        "                           self.flatten, self.dropout1, self.dense1, self.dropout2, self.dense2]\n",
        "    @tf.function\n",
        "    def call(self, *args, **kwargs):\n",
        "        # Define the forward pass\n",
        "        # output is the model logits\n",
        "        activation_list = []\n",
        "        out = args[0]\n",
        "        for layer in self.layers_list:                  \n",
        "           out = layer(out)\n",
        "           activation_list.append(out)\n",
        "\n",
        "        if kwargs['training']:\n",
        "          #notice that training is a kw argument checked when fit is called\n",
        "          #so when model is training, all I need is the output logits to call the loss function upon\n",
        "          return out\n",
        "        else:          \n",
        "          prob = tf.nn.softmax(out)\n",
        "          return out, prob"
      ],
      "metadata": {
        "id": "sYdplnAkjKEO"
      },
      "execution_count": null,
      "outputs": []
    },
    {
      "cell_type": "code",
      "source": [
        "class SaveFinalTrainingLogitsProp(keras.callbacks.Callback):\n",
        "  def on_train_end(self, logs):\n",
        "    self.out = model.predict(x_train)\n",
        "    self.prob = tf.nn.softmax(self.out)\n",
        "    print(self.out.shape, self.prob.shape)\n"
      ],
      "metadata": {
        "id": "s_h-WF1i0EVi"
      },
      "execution_count": null,
      "outputs": []
    },
    {
      "cell_type": "code",
      "source": [
        "model = MNISTClassifier()\n",
        "model.compile(loss=tf.keras.losses.SparseCategoricalCrossentropy(from_logits=True),\n",
        "              optimizer=tf.keras.optimizers.Adam(),\n",
        "              metrics=['accuracy'])\n",
        "\n",
        "model.fit(x_train, y_train, epochs=10, validation_data=(x_test, y_test))\n",
        "\n",
        "model.save('MNISTClassifier')\n",
        "# model = keras.models.load_model(\"MNISTClassifier.keras\")"
      ],
      "metadata": {
        "id": "K3yL79BLjQZ-",
        "colab": {
          "base_uri": "https://localhost:8080/"
        },
        "outputId": "73e4b664-e241-4d2e-ed61-5c0e2917fb0c"
      },
      "execution_count": null,
      "outputs": [
        {
          "output_type": "stream",
          "name": "stdout",
          "text": [
            "Epoch 1/10\n",
            "1563/1563 [==============================] - 12s 5ms/step - loss: 0.2456 - accuracy: 0.9251 - val_loss: 0.0693 - val_accuracy: 0.9792\n",
            "Epoch 2/10\n",
            "1563/1563 [==============================] - 11s 7ms/step - loss: 0.0907 - accuracy: 0.9725 - val_loss: 0.0629 - val_accuracy: 0.9810\n",
            "Epoch 3/10\n",
            "1563/1563 [==============================] - 10s 6ms/step - loss: 0.0687 - accuracy: 0.9799 - val_loss: 0.0466 - val_accuracy: 0.9865\n",
            "Epoch 4/10\n",
            "1563/1563 [==============================] - 9s 6ms/step - loss: 0.0561 - accuracy: 0.9828 - val_loss: 0.0346 - val_accuracy: 0.9899\n",
            "Epoch 5/10\n",
            "1563/1563 [==============================] - 9s 6ms/step - loss: 0.0472 - accuracy: 0.9854 - val_loss: 0.0420 - val_accuracy: 0.9885\n",
            "Epoch 6/10\n",
            "1563/1563 [==============================] - 6s 4ms/step - loss: 0.0427 - accuracy: 0.9866 - val_loss: 0.0336 - val_accuracy: 0.9895\n",
            "Epoch 7/10\n",
            "1563/1563 [==============================] - 7s 4ms/step - loss: 0.0392 - accuracy: 0.9875 - val_loss: 0.0322 - val_accuracy: 0.9914\n",
            "Epoch 8/10\n",
            "1563/1563 [==============================] - 6s 4ms/step - loss: 0.0338 - accuracy: 0.9894 - val_loss: 0.0419 - val_accuracy: 0.9894\n",
            "Epoch 9/10\n",
            "1563/1563 [==============================] - 7s 5ms/step - loss: 0.0321 - accuracy: 0.9899 - val_loss: 0.0312 - val_accuracy: 0.9914\n",
            "Epoch 10/10\n",
            "1563/1563 [==============================] - 7s 4ms/step - loss: 0.0300 - accuracy: 0.9902 - val_loss: 0.0380 - val_accuracy: 0.9912\n"
          ]
        },
        {
          "output_type": "stream",
          "name": "stderr",
          "text": [
            "WARNING:absl:Found untraced functions such as _jit_compiled_convolution_op, _jit_compiled_convolution_op, _update_step_xla while saving (showing 3 of 3). These functions will not be directly callable after loading.\n"
          ]
        }
      ]
    },
    {
      "cell_type": "markdown",
      "source": [
        "## load model and make predictions"
      ],
      "metadata": {
        "id": "4-MZOu1ZIB0v"
      }
    },
    {
      "cell_type": "code",
      "source": [
        "# select a few twos from the test dataset and reshape\n",
        "# twos are at [(5, 2), (16, 2), (25, 2), (28, 2), (76, 2)]\n",
        "\n",
        "twos_tuple = [(5, 2), (16, 2), (25, 2), (28, 2), (76, 2)]\n",
        "reshaped_sample_twos = []\n",
        "for tup in twos_tuple:\n",
        "  a_two = x_test[tup[0]]\n",
        "  a_two = np.reshape(a_two, (-1, 28, 28, 1))\n",
        "  reshaped_sample_twos.append(a_two)\n",
        "reshaped_sample_twos = np.array(reshaped_sample_twos)\n",
        "# a_five = np.reshape(x_test[47], (-1, 28, 28, 1))\n",
        "# print(a_five.shape)"
      ],
      "metadata": {
        "id": "OWVZ0ykNKqOw"
      },
      "execution_count": null,
      "outputs": []
    },
    {
      "cell_type": "code",
      "source": [
        "print(reshaped_sample_twos.shape) #the network expects a rank 4 tensor ie. batch, width, hieght, channel"
      ],
      "metadata": {
        "id": "3iAf9g6JNdx5",
        "outputId": "db238e89-7d45-489e-f67b-efeee76b53f3",
        "colab": {
          "base_uri": "https://localhost:8080/"
        }
      },
      "execution_count": null,
      "outputs": [
        {
          "output_type": "stream",
          "name": "stdout",
          "text": [
            "(5, 1, 28, 28, 1)\n"
          ]
        }
      ]
    },
    {
      "cell_type": "code",
      "source": [
        "# location of 2 in x_test # number 2 are found in these location: [(5, 2), (16, 2), (25, 2), (28, 2), (76, 2)]\n",
        "model = tf.keras.models.load_model('MNISTClassifier')\n",
        "\n",
        "prediction = []\n",
        "for sample in reshaped_sample_twos:\n",
        "  sample_prediction = model.predict(sample)\n",
        "  prediction.append(sample_prediction)\n",
        "# print(np.argmax(prediction))\n",
        "print(np.argmax(prediction[0][1]))"
      ],
      "metadata": {
        "colab": {
          "base_uri": "https://localhost:8080/"
        },
        "id": "uRBgRXHZIoh2",
        "outputId": "6a66821b-987a-459a-a62a-0d8fe590785e"
      },
      "execution_count": null,
      "outputs": [
        {
          "output_type": "stream",
          "name": "stdout",
          "text": [
            "1/1 [==============================] - 0s 144ms/step\n",
            "1/1 [==============================] - 0s 18ms/step\n",
            "1/1 [==============================] - 0s 19ms/step\n",
            "1/1 [==============================] - 0s 18ms/step\n",
            "1/1 [==============================] - 0s 17ms/step\n",
            "2\n"
          ]
        }
      ]
    },
    {
      "cell_type": "code",
      "source": [
        "print(tf.one_hot(y_test[5], 10)) #creates a 0n-hot encoded output label to enable us calculate the distance"
      ],
      "metadata": {
        "id": "RAVZgBdUZfr4",
        "outputId": "cf6947ec-eb34-402b-d449-177e8a090d1a",
        "colab": {
          "base_uri": "https://localhost:8080/"
        }
      },
      "execution_count": null,
      "outputs": [
        {
          "output_type": "stream",
          "name": "stdout",
          "text": [
            "tf.Tensor([0. 0. 1. 0. 0. 0. 0. 0. 0. 0.], shape=(10,), dtype=float32)\n"
          ]
        }
      ]
    },
    {
      "cell_type": "code",
      "source": [
        "reshaped_sample_twos[0].shape\n",
        "#squeze to drop first dim\n",
        "squeze_two = np.expand_dims(np.squeeze(reshaped_sample_twos[2]), axis=2)\n",
        "squeze_two.shape\n",
        "x = squeze_two\n",
        "x = np.expand_dims(x, axis=0)\n",
        "x = tf.convert_to_tensor(x)\n",
        "y = y_test[5]\n",
        "y = tf.convert_to_tensor(y)\n",
        "\n",
        "print(y)\n",
        "print(x.shape)"
      ],
      "metadata": {
        "id": "h101AZjxfonJ",
        "outputId": "d2a5fb79-4aef-4e69-9140-1dd82343daf6",
        "colab": {
          "base_uri": "https://localhost:8080/"
        }
      },
      "execution_count": null,
      "outputs": [
        {
          "output_type": "stream",
          "name": "stdout",
          "text": [
            "tf.Tensor(2, shape=(), dtype=uint8)\n",
            "(1, 28, 28, 1)\n"
          ]
        }
      ]
    },
    {
      "cell_type": "code",
      "source": [
        "# def fgsm_attack(model, loss_object, x, y, epsilon):\n",
        "#   # tensor of same shape as x to hold perturbation\n",
        "#   #x coming in is already perturbed version of x\n",
        "#   delta = tf.zeros_like(x)\n",
        "#   y = tf.one_hot(y, 10)\n",
        "\n",
        "#   with tf.GradientTape() as tape:\n",
        "#     tape.watch(x)\n",
        "#     prediction = model(x)\n",
        "#     # since training = False here, it will return out, prob\n",
        "#     loss = (y, prediction[0])\n",
        "#     # print(loss)\n",
        "  \n",
        "#   # compute gradient of loss wrt input\n",
        "#   gradients = tape.gradient(loss, x)\n",
        "  \n",
        "\n",
        "#   #normalize the gradient vector by dividing all values by the std\n",
        "#   gradients /= tf.math.reduce_std(gradients) + 1e-8\n",
        "\n",
        "#   # Add a small perturbation to the input using the sign of the gradients\n",
        "#   x_perturbed = x + epsilon * tf.sign(gradients)\n",
        "\n",
        "#   # add perturbation to input using the sign of the gradient\n",
        "\n",
        "#   x_perturbed = tf.clip_by_value((x_perturbed, 0, 1))\n",
        "\n",
        "#   return x_perturbed"
      ],
      "metadata": {
        "id": "4lVQpdiFWUox"
      },
      "execution_count": null,
      "outputs": []
    },
    {
      "cell_type": "code",
      "source": [
        "# x_perturbed = fgsm_attack(model, tf.keras.losses.SparseCategoricalCrossentropy(from_logits=True), x, y, 0.1)"
      ],
      "metadata": {
        "id": "p5ErcM2CfFtK",
        "outputId": "df25ee16-6347-44bf-ae9e-06a1adfcbfca",
        "colab": {
          "base_uri": "https://localhost:8080/",
          "height": 345
        }
      },
      "execution_count": null,
      "outputs": [
        {
          "output_type": "error",
          "ename": "TypeError",
          "evalue": "ignored",
          "traceback": [
            "\u001b[0;31m---------------------------------------------------------------------------\u001b[0m",
            "\u001b[0;31mTypeError\u001b[0m                                 Traceback (most recent call last)",
            "\u001b[0;32m<ipython-input-141-ab4e1eb619b9>\u001b[0m in \u001b[0;36m<cell line: 1>\u001b[0;34m()\u001b[0m\n\u001b[0;32m----> 1\u001b[0;31m \u001b[0mx_perturbed\u001b[0m \u001b[0;34m=\u001b[0m \u001b[0mfgsm_attack\u001b[0m\u001b[0;34m(\u001b[0m\u001b[0mmodel\u001b[0m\u001b[0;34m,\u001b[0m \u001b[0mtf\u001b[0m\u001b[0;34m.\u001b[0m\u001b[0mkeras\u001b[0m\u001b[0;34m.\u001b[0m\u001b[0mlosses\u001b[0m\u001b[0;34m.\u001b[0m\u001b[0mSparseCategoricalCrossentropy\u001b[0m\u001b[0;34m(\u001b[0m\u001b[0mfrom_logits\u001b[0m\u001b[0;34m=\u001b[0m\u001b[0;32mTrue\u001b[0m\u001b[0;34m)\u001b[0m\u001b[0;34m,\u001b[0m \u001b[0mx\u001b[0m\u001b[0;34m,\u001b[0m \u001b[0my\u001b[0m\u001b[0;34m,\u001b[0m \u001b[0;36m0.1\u001b[0m\u001b[0;34m)\u001b[0m\u001b[0;34m\u001b[0m\u001b[0;34m\u001b[0m\u001b[0m\n\u001b[0m",
            "\u001b[0;32m<ipython-input-140-4a140ac2f8af>\u001b[0m in \u001b[0;36mfgsm_attack\u001b[0;34m(model, loss_object, x, y, epsilon)\u001b[0m\n\u001b[1;32m     24\u001b[0m   \u001b[0;31m# add perturbation to input using the sign of the gradient\u001b[0m\u001b[0;34m\u001b[0m\u001b[0;34m\u001b[0m\u001b[0m\n\u001b[1;32m     25\u001b[0m \u001b[0;34m\u001b[0m\u001b[0m\n\u001b[0;32m---> 26\u001b[0;31m   \u001b[0mx_perturbed\u001b[0m \u001b[0;34m=\u001b[0m \u001b[0mtf\u001b[0m\u001b[0;34m.\u001b[0m\u001b[0mclip_by_value\u001b[0m\u001b[0;34m(\u001b[0m\u001b[0;34m(\u001b[0m\u001b[0mx_perturbed\u001b[0m\u001b[0;34m,\u001b[0m \u001b[0;36m0\u001b[0m\u001b[0;34m,\u001b[0m \u001b[0;36m1\u001b[0m\u001b[0;34m)\u001b[0m\u001b[0;34m)\u001b[0m\u001b[0;34m\u001b[0m\u001b[0;34m\u001b[0m\u001b[0m\n\u001b[0m\u001b[1;32m     27\u001b[0m \u001b[0;34m\u001b[0m\u001b[0m\n\u001b[1;32m     28\u001b[0m   \u001b[0;32mreturn\u001b[0m \u001b[0mx_perturbed\u001b[0m\u001b[0;34m\u001b[0m\u001b[0;34m\u001b[0m\u001b[0m\n",
            "\u001b[0;32m/usr/local/lib/python3.10/dist-packages/tensorflow/python/util/traceback_utils.py\u001b[0m in \u001b[0;36merror_handler\u001b[0;34m(*args, **kwargs)\u001b[0m\n\u001b[1;32m    151\u001b[0m     \u001b[0;32mexcept\u001b[0m \u001b[0mException\u001b[0m \u001b[0;32mas\u001b[0m \u001b[0me\u001b[0m\u001b[0;34m:\u001b[0m\u001b[0;34m\u001b[0m\u001b[0;34m\u001b[0m\u001b[0m\n\u001b[1;32m    152\u001b[0m       \u001b[0mfiltered_tb\u001b[0m \u001b[0;34m=\u001b[0m \u001b[0m_process_traceback_frames\u001b[0m\u001b[0;34m(\u001b[0m\u001b[0me\u001b[0m\u001b[0;34m.\u001b[0m\u001b[0m__traceback__\u001b[0m\u001b[0;34m)\u001b[0m\u001b[0;34m\u001b[0m\u001b[0;34m\u001b[0m\u001b[0m\n\u001b[0;32m--> 153\u001b[0;31m       \u001b[0;32mraise\u001b[0m \u001b[0me\u001b[0m\u001b[0;34m.\u001b[0m\u001b[0mwith_traceback\u001b[0m\u001b[0;34m(\u001b[0m\u001b[0mfiltered_tb\u001b[0m\u001b[0;34m)\u001b[0m \u001b[0;32mfrom\u001b[0m \u001b[0;32mNone\u001b[0m\u001b[0;34m\u001b[0m\u001b[0;34m\u001b[0m\u001b[0m\n\u001b[0m\u001b[1;32m    154\u001b[0m     \u001b[0;32mfinally\u001b[0m\u001b[0;34m:\u001b[0m\u001b[0;34m\u001b[0m\u001b[0;34m\u001b[0m\u001b[0m\n\u001b[1;32m    155\u001b[0m       \u001b[0;32mdel\u001b[0m \u001b[0mfiltered_tb\u001b[0m\u001b[0;34m\u001b[0m\u001b[0;34m\u001b[0m\u001b[0m\n",
            "\u001b[0;32m/usr/local/lib/python3.10/dist-packages/tensorflow/python/util/dispatch.py\u001b[0m in \u001b[0;36mop_dispatch_handler\u001b[0;34m(*args, **kwargs)\u001b[0m\n\u001b[1;32m   1168\u001b[0m         \u001b[0;32mif\u001b[0m \u001b[0miterable_params\u001b[0m \u001b[0;32mis\u001b[0m \u001b[0;32mnot\u001b[0m \u001b[0;32mNone\u001b[0m\u001b[0;34m:\u001b[0m\u001b[0;34m\u001b[0m\u001b[0;34m\u001b[0m\u001b[0m\n\u001b[1;32m   1169\u001b[0m           \u001b[0margs\u001b[0m\u001b[0;34m,\u001b[0m \u001b[0mkwargs\u001b[0m \u001b[0;34m=\u001b[0m \u001b[0mreplace_iterable_params\u001b[0m\u001b[0;34m(\u001b[0m\u001b[0margs\u001b[0m\u001b[0;34m,\u001b[0m \u001b[0mkwargs\u001b[0m\u001b[0;34m,\u001b[0m \u001b[0miterable_params\u001b[0m\u001b[0;34m)\u001b[0m\u001b[0;34m\u001b[0m\u001b[0;34m\u001b[0m\u001b[0m\n\u001b[0;32m-> 1170\u001b[0;31m         \u001b[0mresult\u001b[0m \u001b[0;34m=\u001b[0m \u001b[0mapi_dispatcher\u001b[0m\u001b[0;34m.\u001b[0m\u001b[0mDispatch\u001b[0m\u001b[0;34m(\u001b[0m\u001b[0margs\u001b[0m\u001b[0;34m,\u001b[0m \u001b[0mkwargs\u001b[0m\u001b[0;34m)\u001b[0m\u001b[0;34m\u001b[0m\u001b[0;34m\u001b[0m\u001b[0m\n\u001b[0m\u001b[1;32m   1171\u001b[0m         \u001b[0;32mif\u001b[0m \u001b[0mresult\u001b[0m \u001b[0;32mis\u001b[0m \u001b[0;32mnot\u001b[0m \u001b[0mNotImplemented\u001b[0m\u001b[0;34m:\u001b[0m\u001b[0;34m\u001b[0m\u001b[0;34m\u001b[0m\u001b[0m\n\u001b[1;32m   1172\u001b[0m           \u001b[0;32mreturn\u001b[0m \u001b[0mresult\u001b[0m\u001b[0;34m\u001b[0m\u001b[0;34m\u001b[0m\u001b[0m\n",
            "\u001b[0;31mTypeError\u001b[0m: Missing required positional argument"
          ]
        }
      ]
    },
    {
      "cell_type": "code",
      "source": [
        "def fgsm(model, x, y, eps):\n",
        "  # tensor of same shape as x to hold perturbation\n",
        "  #x coming in is already perturbed version of x\n",
        "  # delta = tf.zeros_like(x)\n",
        "  y = tf.one_hot(y, 10)\n",
        "  y = np.reshape(y, (1,10))\n",
        "\n",
        "  x = tf.cast(x, tf.float32)\n",
        "  with tf.GradientTape() as tape:\n",
        "      tape.watch(x)\n",
        "      y_pred = model(x)\n",
        "      y_pred = y_pred[1]\n",
        "      loss = tf.keras.losses.categorical_crossentropy(y, y_pred, from_logits=True)\n",
        "  gradient = tape.gradient(loss, x)\n",
        "  gradient /= tf.math.reduce_std(gradient) + 1e-8\n",
        "  signed_grad = tf.sign(gradient)\n",
        "  perturbation = eps*signed_grad\n",
        "  adv_x = x + perturbation\n",
        "  adv_x = tf.clip_by_value(adv_x, 0, 1) # make sure the perturbed image is still in [0, 1] range\n",
        "  return adv_x, perturbation"
      ],
      "metadata": {
        "id": "xgGOFI1Rmr1a"
      },
      "execution_count": null,
      "outputs": []
    },
    {
      "cell_type": "code",
      "source": [
        "x_test_adv, perturbation = fgsm(model, x, y, 0.11)"
      ],
      "metadata": {
        "id": "zMY-vq3wnDbK"
      },
      "execution_count": null,
      "outputs": []
    },
    {
      "cell_type": "code",
      "source": [
        "# x_test[5].shape\n",
        "# digit = x_test[16]\n",
        "# fig = plt.figure\n",
        "# plt.imshow(digit, cmap='gray')\n",
        "# print(y_test[16])\n",
        "\n",
        "perturbation = np.squeeze(perturbation)\n",
        "perturbation = np.expand_dims(perturbation, axis=2)\n",
        "print(perturbation.shape)\n",
        "\n",
        "plt.imshow(perturbation, cmap='gray')"
      ],
      "metadata": {
        "id": "cujk-ndJn3NL",
        "outputId": "8bdd3831-fea3-4034-d2c3-c47493b41700",
        "colab": {
          "base_uri": "https://localhost:8080/",
          "height": 465
        }
      },
      "execution_count": null,
      "outputs": [
        {
          "output_type": "stream",
          "name": "stdout",
          "text": [
            "(28, 28, 1)\n"
          ]
        },
        {
          "output_type": "execute_result",
          "data": {
            "text/plain": [
              "<matplotlib.image.AxesImage at 0x7f9814ae2d70>"
            ]
          },
          "metadata": {},
          "execution_count": 79
        },
        {
          "output_type": "display_data",
          "data": {
            "text/plain": [
              "<Figure size 640x480 with 1 Axes>"
            ],
            "image/png": "[encoded data removed]"
          },
          "metadata": {}
        }
      ]
    },
    {
      "cell_type": "code",
      "source": [
        "adv_image = np.squeeze(x_test_adv)\n",
        "adv_image = np.expand_dims(adv_image, axis=2)\n",
        "print(adv_image.shape)\n",
        "\n",
        "plt.imshow(adv_image, cmap='gray')"
      ],
      "metadata": {
        "colab": {
          "base_uri": "https://localhost:8080/",
          "height": 465
        },
        "id": "Dab5Cnq-kZi6",
        "outputId": "02b66fb5-209b-46dc-ee91-19f2b17a9068"
      },
      "execution_count": null,
      "outputs": [
        {
          "output_type": "stream",
          "name": "stdout",
          "text": [
            "(28, 28, 1)\n"
          ]
        },
        {
          "output_type": "execute_result",
          "data": {
            "text/plain": [
              "<matplotlib.image.AxesImage at 0x7f9814961f30>"
            ]
          },
          "metadata": {},
          "execution_count": 80
        },
        {
          "output_type": "display_data",
          "data": {
            "text/plain": [
              "<Figure size 640x480 with 1 Axes>"
            ],
            "image/png": "[encoded data removed]"
          },
          "metadata": {}
        }
      ]
    },
    {
      "cell_type": "code",
      "source": [
        "adv_pred = model.predict(x_test_adv)\n",
        "\n",
        "print(np.argmax(adv_pred[1]))"
      ],
      "metadata": {
        "id": "-Qo0Eq9Ontgz",
        "outputId": "7a58dee0-8cef-48e0-9ca6-c75782f557ff",
        "colab": {
          "base_uri": "https://localhost:8080/"
        }
      },
      "execution_count": null,
      "outputs": [
        {
          "output_type": "stream",
          "name": "stdout",
          "text": [
            "1/1 [==============================] - 0s 26ms/step\n",
            "2\n"
          ]
        }
      ]
    }
  ]
}